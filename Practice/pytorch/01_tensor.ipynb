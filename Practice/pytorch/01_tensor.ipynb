{
 "cells": [
  {
   "cell_type": "markdown",
   "metadata": {},
   "source": [
    "### 01. pytorch import 및 버전 확인"
   ]
  },
  {
   "cell_type": "code",
   "execution_count": 2,
   "metadata": {},
   "outputs": [],
   "source": [
    "import torch\n",
    "\n",
    "torch.__version__\n",
    "\n",
    "import numpy as np\n",
    "\n",
    "device "
   ]
  },
  {
   "cell_type": "markdown",
   "metadata": {},
   "source": [
    "## 1. 텐서(Tensor) 초기화\n",
    "- 초기화 - 텐서에 특정한 값을 넣어 생성"
   ]
  },
  {
   "cell_type": "markdown",
   "metadata": {},
   "source": [
    "### 1-1. 초기화 되지 않은 텐서\n",
    "- 특정한 값이 채워지지 않은 상태로 생성하는 것"
   ]
  },
  {
   "cell_type": "code",
   "execution_count": 4,
   "metadata": {},
   "outputs": [
    {
     "name": "stdout",
     "output_type": "stream",
     "text": [
      "tensor([[0., 0.],\n",
      "        [0., 0.],\n",
      "        [0., 0.],\n",
      "        [0., 0.]])\n"
     ]
    }
   ],
   "source": [
    "tensor = torch.empty(4, 2)\n",
    "print(tensor)"
   ]
  },
  {
   "cell_type": "markdown",
   "metadata": {},
   "source": [
    "### 1-2. 상수로 초기화된 텐서\n",
    "- torch.zeros()\n",
    "- torch.ones()"
   ]
  },
  {
   "cell_type": "code",
   "execution_count": 5,
   "metadata": {},
   "outputs": [
    {
     "name": "stdout",
     "output_type": "stream",
     "text": [
      "tensor([[0., 0.],\n",
      "        [0., 0.]])\n",
      "tensor([[1., 1., 1., 1.],\n",
      "        [1., 1., 1., 1.],\n",
      "        [1., 1., 1., 1.]])\n"
     ]
    }
   ],
   "source": [
    "a = torch.zeros(2, 2)\n",
    "b = torch.ones(3, 4)\n",
    "print(a)\n",
    "print(b)"
   ]
  },
  {
   "cell_type": "markdown",
   "metadata": {},
   "source": [
    "### 1-3. 무작위로 초기화된 텐서\n",
    "- torch.rand() - 0~1사이의 값으로 무작위로 초기화\n",
    "- torch.randn() - 표준분포 상의 무작위 값으로 초기화"
   ]
  },
  {
   "cell_type": "code",
   "execution_count": 6,
   "metadata": {},
   "outputs": [
    {
     "name": "stdout",
     "output_type": "stream",
     "text": [
      "tensor([[6.5932e-01, 3.3560e-01, 9.6465e-01],\n",
      "        [7.9919e-01, 7.4595e-04, 2.3290e-01],\n",
      "        [9.5760e-01, 8.0799e-02, 6.6083e-01]])\n",
      "tensor([[ 0.8231, -1.6761, -1.8932],\n",
      "        [-1.1420, -0.2061, -0.2834],\n",
      "        [-1.4834,  1.2768, -1.5002]])\n"
     ]
    }
   ],
   "source": [
    "a = torch.rand(3, 3)\n",
    "b = torch.randn(3, 3)\n",
    "print(a)\n",
    "print(b)"
   ]
  },
  {
   "cell_type": "markdown",
   "metadata": {},
   "source": [
    "1-4. 직접 입력한 값으로 초기화\n",
    "- torch.tensor([]) - 직접 입력한 값으로 초기화"
   ]
  },
  {
   "cell_type": "code",
   "execution_count": 7,
   "metadata": {},
   "outputs": [
    {
     "data": {
      "text/plain": [
       "tensor([1, 2, 3])"
      ]
     },
     "execution_count": 7,
     "metadata": {},
     "output_type": "execute_result"
    }
   ],
   "source": [
    "a = torch.tensor([1, 2, 3])\n",
    "a"
   ]
  },
  {
   "cell_type": "markdown",
   "metadata": {},
   "source": [
    "### 1-5. numpy 배열로부터 초기화\n",
    "- from_numpy()"
   ]
  },
  {
   "cell_type": "code",
   "execution_count": 12,
   "metadata": {},
   "outputs": [
    {
     "name": "stdout",
     "output_type": "stream",
     "text": [
      "[1 2 3]\n"
     ]
    },
    {
     "data": {
      "text/plain": [
       "numpy.ndarray"
      ]
     },
     "execution_count": 12,
     "metadata": {},
     "output_type": "execute_result"
    }
   ],
   "source": [
    "nd_arr = np.array([1, 2, 3])\n",
    "print(nd_arr)\n",
    "\n",
    "a = torch.from_numpy(nd_arr) # nd_arr로 부터 값을 직접 받아옴\n",
    "\n",
    "b = a\n",
    "new_nd = b.numpy() # tensor에서 nd array로 변환\n",
    "type(new_nd)"
   ]
  },
  {
   "cell_type": "markdown",
   "metadata": {},
   "source": [
    "### 1-6. 특정 텐서와 같은 타입, 무작위로 채움\n",
    "- nnn_like(tensor, data type)"
   ]
  },
  {
   "cell_type": "code",
   "execution_count": 13,
   "metadata": {},
   "outputs": [
    {
     "name": "stdout",
     "output_type": "stream",
     "text": [
      "tensor([[1, 1, 1, 1],\n",
      "        [1, 1, 1, 1],\n",
      "        [1, 1, 1, 1]])\n",
      "tensor([[0.2740, 0.6523, 0.2055, 0.5427],\n",
      "        [0.2043, 0.3938, 0.1631, 0.0482],\n",
      "        [0.9810, 0.1821, 0.5032, 0.4761]])\n"
     ]
    }
   ],
   "source": [
    "a = torch.ones(3, 4, dtype=torch.long)\n",
    "b = torch.rand_like(a, dtype=torch.float64) #값은 달라도 a와 같은 구조 가지고 있음\n",
    "\n",
    "print(a)\n",
    "print(b)"
   ]
  },
  {
   "cell_type": "markdown",
   "metadata": {},
   "source": [
    "### 실습1 - 퀴즈(1)\n",
    "- 제시된 문제 풀기\n",
    "- 검색하지 않고 가능한한 스스로 풀어보기"
   ]
  },
  {
   "cell_type": "markdown",
   "metadata": {},
   "source": [
    "### 1-7 텐서의 속성"
   ]
  },
  {
   "cell_type": "code",
   "execution_count": 8,
   "metadata": {},
   "outputs": [
    {
     "name": "stdout",
     "output_type": "stream",
     "text": [
      "torch.Size([3, 4])\n",
      "torch.Size([3, 4])\n",
      "torch.float32\n",
      "cpu\n"
     ]
    }
   ],
   "source": [
    "tensor = torch.rand(3, 4)\n",
    "print(tensor.size()) # 사이즈. 함수로 부르기\n",
    "print(tensor.shape) # 속성으로 부르기\n",
    "print(tensor.dtype) # 데이터 타입\n",
    "print(tensor.device)"
   ]
  },
  {
   "cell_type": "markdown",
   "metadata": {},
   "source": [
    "### 1-8 특정 타입의 텐서 생성"
   ]
  },
  {
   "cell_type": "code",
   "execution_count": 11,
   "metadata": {},
   "outputs": [
    {
     "name": "stdout",
     "output_type": "stream",
     "text": [
      "torch.float64\n",
      "torch.float32\n",
      "tensor([1, 2, 3], dtype=torch.int32)\n",
      "torch.int32\n"
     ]
    }
   ],
   "source": [
    "tensor = torch.rand(3, 4, dtype=torch.float64)\n",
    "print(tensor.dtype)\n",
    "\n",
    "float_tensor = torch.FloatTensor([1,2,3])\n",
    "print(float_tensor.dtype) \n",
    "\n",
    "int_tensor = torch.IntTensor([1,2,3])\n",
    "print(int_tensor)\n",
    "print(int_tensor.dtype)"
   ]
  },
  {
   "cell_type": "markdown",
   "metadata": {},
   "source": [
    "### 1-9 데이터 타입 캐스팅"
   ]
  },
  {
   "cell_type": "code",
   "execution_count": 12,
   "metadata": {},
   "outputs": [
    {
     "name": "stdout",
     "output_type": "stream",
     "text": [
      "tensor([1, 2, 3], dtype=torch.int32)\n",
      "tensor([1., 2., 3.])\n"
     ]
    }
   ],
   "source": [
    "float_tensor = torch.FloatTensor([1,2,3])\n",
    "print(float_tensor.int())\n",
    "\n",
    "int_tensor = torch.IntTensor([1,2,3])\n",
    "print(int_tensor.float())"
   ]
  },
  {
   "cell_type": "markdown",
   "metadata": {},
   "source": [
    "### 1-10. CUDA Tensor"
   ]
  },
  {
   "cell_type": "code",
   "execution_count": null,
   "metadata": {},
   "outputs": [
    {
     "data": {
      "text/plain": [
       "device(type='cuda', index=0)"
      ]
     },
     "execution_count": 16,
     "metadata": {},
     "output_type": "execute_result"
    }
   ],
   "source": [
    "#print(torch.cuda.is_available()) # cuda가 작동 가능한지 여부\n",
    "tensor = torch.rand(3,4, dtype=torch.float32)\n",
    "\n",
    "device = torch.device(\"cuda\" if torch.cuda.is_available() else \"cpu\") # device를 if가 가능하면 그걸쓰고 아니면 else쪽\n",
    "\n",
    "tensor = tensor.to(device)\n",
    "tensor.device # type이 cpu에서 cuda로 바뀌어야 함"
   ]
  },
  {
   "cell_type": "markdown",
   "metadata": {},
   "source": [
    "### 1-11-1. 0D Tensor(Scalar)\n",
    "- 하나의 값을 담고 있는 텐서"
   ]
  },
  {
   "cell_type": "code",
   "execution_count": 17,
   "metadata": {},
   "outputs": [
    {
     "name": "stdout",
     "output_type": "stream",
     "text": [
      "0\n",
      "torch.Size([])\n",
      "tensor(100)\n"
     ]
    }
   ],
   "source": [
    "t0 = torch.tensor(100) # 0차원의 1개의 값을 담은 텐서\n",
    "\n",
    "print(t0.ndim)\n",
    "print(t0.shape)\n",
    "print(t0)"
   ]
  },
  {
   "cell_type": "markdown",
   "metadata": {},
   "source": [
    "### 1-11-2. 1D Tensor(Vector)\n",
    "- 값들을 저장하고 있는 리스트와 유사한 텐서"
   ]
  },
  {
   "cell_type": "code",
   "execution_count": 18,
   "metadata": {},
   "outputs": [
    {
     "name": "stdout",
     "output_type": "stream",
     "text": [
      "1\n",
      "torch.Size([3])\n",
      "tensor([1, 2, 3])\n"
     ]
    }
   ],
   "source": [
    "t1 = torch.tensor([1,2,3]) # 0차원의 1개의 값을 담은 텐서\n",
    "\n",
    "print(t1.ndim) # 1 차원\n",
    "print(t1.shape)\n",
    "print(t1)"
   ]
  },
  {
   "cell_type": "markdown",
   "metadata": {},
   "source": [
    "### 1-11-3. 2D Tensor(Matrix)\n",
    "- 행렬과 같은 모양으로 두개의 축이 존재하는 텐서"
   ]
  },
  {
   "cell_type": "code",
   "execution_count": 19,
   "metadata": {},
   "outputs": [
    {
     "name": "stdout",
     "output_type": "stream",
     "text": [
      "2\n",
      "torch.Size([2, 2])\n",
      "tensor([[1, 2],\n",
      "        [3, 4]])\n"
     ]
    }
   ],
   "source": [
    "t2 = torch.tensor([[1, 2], [3, 4]]) # 0차원의 1개의 값을 담은 텐서\n",
    "\n",
    "print(t2.ndim) # 2 차원\n",
    "print(t2.shape)\n",
    "print(t2)"
   ]
  },
  {
   "cell_type": "markdown",
   "metadata": {},
   "source": [
    "### 1-11-4. 3D Tensor(Cube)\n",
    "- 큐브와 같은 형태로 세개의 축이 존재"
   ]
  },
  {
   "cell_type": "code",
   "execution_count": null,
   "metadata": {},
   "outputs": [],
   "source": [
    "t3 = torch.tensor([[[1, 2], [3, 4]],\n",
    "                   [[1,2], [3,4]]\n",
    "                   [[4,5], [6,7]]]) # 0차원의 1개의 값을 담은 텐서\n",
    "\n",
    "print(t3.ndim) # 3 차원\n",
    "print(t3.shape)\n",
    "print(t3)"
   ]
  }
 ],
 "metadata": {
  "kernelspec": {
   "display_name": "pytorch_env",
   "language": "python",
   "name": "python3"
  },
  "language_info": {
   "codemirror_mode": {
    "name": "ipython",
    "version": 3
   },
   "file_extension": ".py",
   "mimetype": "text/x-python",
   "name": "python",
   "nbconvert_exporter": "python",
   "pygments_lexer": "ipython3",
   "version": "3.12.3"
  }
 },
 "nbformat": 4,
 "nbformat_minor": 2
}
