{
 "cells": [
  {
   "cell_type": "markdown",
   "metadata": {},
   "source": [
    "## 02. 텐서의 연산"
   ]
  },
  {
   "cell_type": "code",
   "execution_count": 2,
   "metadata": {},
   "outputs": [],
   "source": [
    "import torch"
   ]
  },
  {
   "cell_type": "markdown",
   "metadata": {},
   "source": [
    "### 2-1. 산술 연산"
   ]
  },
  {
   "cell_type": "code",
   "execution_count": 3,
   "metadata": {},
   "outputs": [
    {
     "name": "stdout",
     "output_type": "stream",
     "text": [
      "tensor([[0.6575, 0.3619],\n",
      "        [0.8901, 0.1246]])\n",
      "tensor([[1.3150, 0.7238],\n",
      "        [1.7802, 0.2492]])\n"
     ]
    }
   ],
   "source": [
    "### 2-1. 산술 연산\n",
    "\n",
    "tensor = torch.rand(2, 2)\n",
    "print(tensor)\n",
    "\n",
    "tensor = tensor * 2\n",
    "print(tensor)"
   ]
  },
  {
   "cell_type": "code",
   "execution_count": 4,
   "metadata": {},
   "outputs": [
    {
     "name": "stdout",
     "output_type": "stream",
     "text": [
      "tensor([[0.5852, 0.0370],\n",
      "        [0.8411, 0.4257]])\n",
      "tensor([[1.5852, 1.0370],\n",
      "        [1.8411, 1.4257]])\n"
     ]
    }
   ],
   "source": [
    "tensor = torch.rand(2, 2)\n",
    "print(tensor)\n",
    "\n",
    "tensor = tensor + 1\n",
    "print(tensor)"
   ]
  },
  {
   "cell_type": "code",
   "execution_count": 9,
   "metadata": {},
   "outputs": [
    {
     "name": "stdout",
     "output_type": "stream",
     "text": [
      "tensor([[0.2497, 0.7214],\n",
      "        [0.2025, 0.9864]]) tensor([[0.6979, 0.5188],\n",
      "        [0.8628, 0.5194]])\n",
      "tensor([[0.9476, 1.2402],\n",
      "        [1.0653, 1.5058]])\n",
      "tensor([[0.9476, 1.2402],\n",
      "        [1.0653, 1.5058]])\n"
     ]
    }
   ],
   "source": [
    "x = torch.rand(2, 2)\n",
    "y = torch.rand(2, 2)\n",
    "add = torch.add(x, y)\n",
    "print(x, y)\n",
    "\n",
    "#in-place 바꿔치기 연산\n",
    "print(add)\n",
    "y.add_(x)\n",
    "print(y)"
   ]
  },
  {
   "cell_type": "code",
   "execution_count": 11,
   "metadata": {},
   "outputs": [
    {
     "name": "stdout",
     "output_type": "stream",
     "text": [
      "tensor([[0.8425, 0.6861],\n",
      "        [0.2116, 0.3500]]) tensor([[0.4816, 0.1443],\n",
      "        [0.7426, 0.6037]])\n",
      "tensor([[ 0.3609,  0.5418],\n",
      "        [-0.5310, -0.2538]])\n",
      "tensor([[0.4816, 0.1443],\n",
      "        [0.7426, 0.6037]])\n"
     ]
    }
   ],
   "source": [
    "# 뺴기\n",
    "x = torch.rand(2, 2)\n",
    "y = torch.rand(2, 2)\n",
    "sub = torch.sub(x, y)\n",
    "print(x, y)\n",
    "print(sub)\n",
    "\n",
    "y.sub(x)\n",
    "print(y)"
   ]
  },
  {
   "cell_type": "code",
   "execution_count": 12,
   "metadata": {},
   "outputs": [
    {
     "name": "stdout",
     "output_type": "stream",
     "text": [
      "tensor([[0.1388, 0.8769],\n",
      "        [0.2657, 0.0862]]) tensor([[0.4991, 0.3836],\n",
      "        [0.1019, 0.0089]])\n",
      "tensor([[0.0693, 0.3364],\n",
      "        [0.0271, 0.0008]])\n"
     ]
    }
   ],
   "source": [
    "# 곱하기\n",
    "x = torch.rand(2, 2)\n",
    "y = torch.rand(2, 2)\n",
    "mul = torch.mul(x, y)\n",
    "print(x, y)\n",
    "print(mul)\n"
   ]
  },
  {
   "cell_type": "code",
   "execution_count": null,
   "metadata": {},
   "outputs": [
    {
     "name": "stdout",
     "output_type": "stream",
     "text": [
      "절대값 tensor(10)\n",
      "올림 tensor(4.)\n",
      "반올림 tensor(3.)\n",
      "내림 tensor(3.)\n",
      "클램프 tensor([[0.2458, 0.5000],\n",
      "        [0.5000, 0.3312]])\n"
     ]
    }
   ],
   "source": [
    "#절대값\n",
    "a = torch.tensor(-10)\n",
    "print(\"절대값\", torch.abs(a))\n",
    "\n",
    "b = torch.tensor(3.3)\n",
    "print(\"올림\", torch.ceil(b))\n",
    "print(\"반올림\", torch.round(b))\n",
    "print(\"내림\", torch.floor(b))\n",
    "\n",
    "c = torch.rand(2,2)\n",
    "print(\"클램프\", torch.clamp(c, -0.5, 0.5)) # 최대값과 최소값 지정하고 초과/미만의 tensor 값을 거기에 맞춤"
   ]
  },
  {
   "cell_type": "code",
   "execution_count": 9,
   "metadata": {},
   "outputs": [
    {
     "name": "stdout",
     "output_type": "stream",
     "text": [
      "최소값 tensor(-0.9408)\n",
      "최대값 tensor(1.9532)\n",
      "평균 tensor(0.4829)\n",
      "표준편차 tensor(1.5357)\n",
      "모든 원소의 합 tensor(1.9317)\n",
      "모든 원소의 합 tensor([3, 7])\n",
      "중복된 값 제거 tensor([1, 2, 3, 4])\n"
     ]
    }
   ],
   "source": [
    "x = torch.randn(2, 2)\n",
    "y = torch.tensor([[1, 2], [3,4]])\n",
    "#최대, 최소,평균, 표준편차\n",
    "print(\"최소값\", torch.min(x))\n",
    "print(\"최대값\", torch.max(x))\n",
    "print(\"평균\", torch.mean(x))\n",
    "print(\"표준편차\", torch.std(x))\n",
    "\n",
    "#값들의 합\n",
    "print(\"모든 원소의 합\", torch.sum(x))\n",
    "# dim 0 = 열들에 맞추어서 더하기 실행\n",
    "# dim 1 = 같은 행에 있는 것들을 전부 더함\n",
    "print(\"모든 원소의 합\", torch.sum(y, dim=1))\n",
    "\n",
    "print(\"중복된 값 제거\", torch.unique(torch.tensor([1,1,1,2,2,2,3,3,3,4,4,4,4])))"
   ]
  },
  {
   "cell_type": "markdown",
   "metadata": {},
   "source": [
    "### 2-3 내적(dot product)"
   ]
  },
  {
   "cell_type": "code",
   "execution_count": 10,
   "metadata": {},
   "outputs": [
    {
     "name": "stdout",
     "output_type": "stream",
     "text": [
      "tensor([[19, 22],\n",
      "        [43, 50]])\n"
     ]
    }
   ],
   "source": [
    "# 행렬의 연산\n",
    "x = torch.tensor([[1, 2], [3, 4]])\n",
    "y = torch.tensor([[5, 6], [7, 8]])\n",
    "\n",
    "result = torch.matmul(x, y)\n",
    "print(result)"
   ]
  },
  {
   "cell_type": "markdown",
   "metadata": {},
   "source": [
    "### 퀴즈2\n",
    "- 연산자를 풀어보아요!"
   ]
  }
 ],
 "metadata": {
  "kernelspec": {
   "display_name": "pytorch_env",
   "language": "python",
   "name": "python3"
  },
  "language_info": {
   "codemirror_mode": {
    "name": "ipython",
    "version": 3
   },
   "file_extension": ".py",
   "mimetype": "text/x-python",
   "name": "python",
   "nbconvert_exporter": "python",
   "pygments_lexer": "ipython3",
   "version": "3.12.3"
  }
 },
 "nbformat": 4,
 "nbformat_minor": 2
}
