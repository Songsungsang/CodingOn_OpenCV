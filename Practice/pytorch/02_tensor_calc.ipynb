{
 "cells": [
  {
   "cell_type": "markdown",
   "metadata": {},
   "source": [
    "## 02. 텐서의 연산"
   ]
  },
  {
   "cell_type": "code",
   "execution_count": 2,
   "metadata": {},
   "outputs": [],
   "source": [
    "import torch"
   ]
  },
  {
   "cell_type": "markdown",
   "metadata": {},
   "source": [
    "### 2-1. 산술 연산"
   ]
  },
  {
   "cell_type": "code",
   "execution_count": 3,
   "metadata": {},
   "outputs": [
    {
     "name": "stdout",
     "output_type": "stream",
     "text": [
      "tensor([[0.6575, 0.3619],\n",
      "        [0.8901, 0.1246]])\n",
      "tensor([[1.3150, 0.7238],\n",
      "        [1.7802, 0.2492]])\n"
     ]
    }
   ],
   "source": [
    "### 2-1. 산술 연산\n",
    "\n",
    "tensor = torch.rand(2, 2)\n",
    "print(tensor)\n",
    "\n",
    "tensor = tensor * 2\n",
    "print(tensor)"
   ]
  },
  {
   "cell_type": "code",
   "execution_count": 4,
   "metadata": {},
   "outputs": [
    {
     "name": "stdout",
     "output_type": "stream",
     "text": [
      "tensor([[0.5852, 0.0370],\n",
      "        [0.8411, 0.4257]])\n",
      "tensor([[1.5852, 1.0370],\n",
      "        [1.8411, 1.4257]])\n"
     ]
    }
   ],
   "source": [
    "tensor = torch.rand(2, 2)\n",
    "print(tensor)\n",
    "\n",
    "tensor = tensor + 1\n",
    "print(tensor)"
   ]
  },
  {
   "cell_type": "code",
   "execution_count": 9,
   "metadata": {},
   "outputs": [
    {
     "name": "stdout",
     "output_type": "stream",
     "text": [
      "tensor([[0.2497, 0.7214],\n",
      "        [0.2025, 0.9864]]) tensor([[0.6979, 0.5188],\n",
      "        [0.8628, 0.5194]])\n",
      "tensor([[0.9476, 1.2402],\n",
      "        [1.0653, 1.5058]])\n",
      "tensor([[0.9476, 1.2402],\n",
      "        [1.0653, 1.5058]])\n"
     ]
    }
   ],
   "source": [
    "x = torch.rand(2, 2)\n",
    "y = torch.rand(2, 2)\n",
    "add = torch.add(x, y)\n",
    "print(x, y)\n",
    "\n",
    "#in-place 바꿔치기 연산\n",
    "print(add)\n",
    "y.add_(x)\n",
    "print(y)"
   ]
  },
  {
   "cell_type": "code",
   "execution_count": 11,
   "metadata": {},
   "outputs": [
    {
     "name": "stdout",
     "output_type": "stream",
     "text": [
      "tensor([[0.8425, 0.6861],\n",
      "        [0.2116, 0.3500]]) tensor([[0.4816, 0.1443],\n",
      "        [0.7426, 0.6037]])\n",
      "tensor([[ 0.3609,  0.5418],\n",
      "        [-0.5310, -0.2538]])\n",
      "tensor([[0.4816, 0.1443],\n",
      "        [0.7426, 0.6037]])\n"
     ]
    }
   ],
   "source": [
    "# 뺴기\n",
    "x = torch.rand(2, 2)\n",
    "y = torch.rand(2, 2)\n",
    "sub = torch.sub(x, y)\n",
    "print(x, y)\n",
    "print(sub)\n",
    "\n",
    "y.sub(x)\n",
    "print(y)"
   ]
  },
  {
   "cell_type": "code",
   "execution_count": 12,
   "metadata": {},
   "outputs": [
    {
     "name": "stdout",
     "output_type": "stream",
     "text": [
      "tensor([[0.1388, 0.8769],\n",
      "        [0.2657, 0.0862]]) tensor([[0.4991, 0.3836],\n",
      "        [0.1019, 0.0089]])\n",
      "tensor([[0.0693, 0.3364],\n",
      "        [0.0271, 0.0008]])\n"
     ]
    }
   ],
   "source": [
    "# 곱하기\n",
    "x = torch.rand(2, 2)\n",
    "y = torch.rand(2, 2)\n",
    "mul = torch.mul(x, y)\n",
    "print(x, y)\n",
    "print(mul)\n"
   ]
  }
 ],
 "metadata": {
  "kernelspec": {
   "display_name": "pytorch_env",
   "language": "python",
   "name": "python3"
  },
  "language_info": {
   "codemirror_mode": {
    "name": "ipython",
    "version": 3
   },
   "file_extension": ".py",
   "mimetype": "text/x-python",
   "name": "python",
   "nbconvert_exporter": "python",
   "pygments_lexer": "ipython3",
   "version": "3.12.3"
  }
 },
 "nbformat": 4,
 "nbformat_minor": 2
}
