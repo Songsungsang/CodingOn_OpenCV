{
 "cells": [
  {
   "cell_type": "code",
   "execution_count": 1,
   "metadata": {},
   "outputs": [],
   "source": [
    "import torch"
   ]
  },
  {
   "cell_type": "code",
   "execution_count": null,
   "metadata": {},
   "outputs": [],
   "source": [
    "## 03. Tensor의 조작"
   ]
  },
  {
   "cell_type": "markdown",
   "metadata": {},
   "source": [
    "### 3-1. 인덱싱, 슬라이싱\n",
    "- numpy 처럼 활용"
   ]
  },
  {
   "cell_type": "code",
   "execution_count": 5,
   "metadata": {},
   "outputs": [
    {
     "name": "stdout",
     "output_type": "stream",
     "text": [
      "tensor(2)\n",
      "tensor([1, 2])\n",
      "tensor([4, 5])\n",
      "tensor([6, 7, 8, 9])\n",
      "tensor([2, 4, 6, 8])\n",
      "tensor([2, 6])\n"
     ]
    }
   ],
   "source": [
    "tensor = torch.tensor([[1,2], [3,4]])\n",
    "print(tensor[0, 1])\n",
    "print(tensor[0, :])\n",
    "\n",
    "a = torch.tensor([1,2,3,4,5])\n",
    "print(a[-2:])\n",
    "\n",
    "b = torch.tensor([[1,2,3], [4,5,6], [7,8,9]])\n",
    "\n",
    "c = b[b > 5]\n",
    "print(c)\n",
    "d = b[b % 2 == 0]\n",
    "print(d)\n",
    "\n",
    "e = b[[0,1], [1,2]] # 0행의 1번, 1행의 2번\n",
    "print(e)"
   ]
  },
  {
   "cell_type": "markdown",
   "metadata": {},
   "source": [
    "### 실습 - 퀴즈3"
   ]
  },
  {
   "cell_type": "markdown",
   "metadata": {},
   "source": [
    "### 3-2. Tensor의 크기, 모양 변경"
   ]
  },
  {
   "cell_type": "code",
   "execution_count": 2,
   "metadata": {},
   "outputs": [],
   "source": [
    "t = torch.rand(4, 5)\n",
    "x = t.view(5, 4) # 4x5 형태를 5x4류 바꿈\n",
    "# 행열 곱한 값이 같아야함\n",
    "y = t.view(10, 2)"
   ]
  },
  {
   "cell_type": "markdown",
   "metadata": {},
   "source": [
    "### 3-3. Tensor의 숫자값 얻기"
   ]
  },
  {
   "cell_type": "code",
   "execution_count": 3,
   "metadata": {},
   "outputs": [
    {
     "name": "stdout",
     "output_type": "stream",
     "text": [
      "10\n",
      "tensor([0.0986])\n",
      "0.09862136840820312\n"
     ]
    }
   ],
   "source": [
    "x = torch.tensor(10)\n",
    "print(x.item())\n",
    "\n",
    "y = torch.rand(1)\n",
    "print(y)\n",
    "print(y.item())"
   ]
  },
  {
   "cell_type": "markdown",
   "metadata": {},
   "source": [
    "### 3-4. 차원 축소와 증가\n",
    "- torch.squeeze() : 크기가 1인 차원을 축소함\n",
    "- torch.unsqueeze() : 지정한 위치에 새로운 차원 형셩"
   ]
  },
  {
   "cell_type": "code",
   "execution_count": 6,
   "metadata": {},
   "outputs": [
    {
     "name": "stdout",
     "output_type": "stream",
     "text": [
      "torch.Size([3, 3])\n"
     ]
    }
   ],
   "source": [
    "# squeeze\n",
    "t = torch.rand(1, 3, 3)\n",
    "t.shape\n",
    "\n",
    "ts = torch.squeeze(t)\n",
    "print(ts.shape)"
   ]
  },
  {
   "cell_type": "code",
   "execution_count": 9,
   "metadata": {},
   "outputs": [
    {
     "name": "stdout",
     "output_type": "stream",
     "text": [
      "torch.Size([3, 3, 3])\n",
      "torch.Size([1, 3, 3, 3])\n",
      "tensor([[[[0.1855, 0.8442, 0.5527],\n",
      "          [0.6065, 0.5883, 0.3068],\n",
      "          [0.7566, 0.7490, 0.1398]],\n",
      "\n",
      "         [[0.6955, 0.8542, 0.3577],\n",
      "          [0.7650, 0.3561, 0.0564],\n",
      "          [0.4838, 0.9057, 0.9642]],\n",
      "\n",
      "         [[0.2701, 0.0495, 0.6132],\n",
      "          [0.5142, 0.7629, 0.7218],\n",
      "          [0.5742, 0.6217, 0.1784]]]])\n"
     ]
    }
   ],
   "source": [
    "# unsqueeze\n",
    "t = torch.rand(3, 3, 3)\n",
    "#print(t)\n",
    "print(t.shape)\n",
    "\n",
    "tu = torch.unsqueeze(t, 0)\n",
    "print(tu.shape)\n",
    "print(tu)"
   ]
  },
  {
   "cell_type": "markdown",
   "metadata": {},
   "source": [
    "### 3-5. Tensor간 결합"
   ]
  },
  {
   "cell_type": "markdown",
   "metadata": {},
   "source": [
    "- torch.stack() : 동일한 형식의 텐서를 새롭게 그룹화 함"
   ]
  },
  {
   "cell_type": "code",
   "execution_count": 15,
   "metadata": {},
   "outputs": [
    {
     "name": "stdout",
     "output_type": "stream",
     "text": [
      "tensor([[[1, 2],\n",
      "         [3, 4]],\n",
      "\n",
      "        [[5, 6],\n",
      "         [7, 8]]])\n"
     ]
    }
   ],
   "source": [
    "x = torch.tensor([[1,2], [3,4]])\n",
    "y = torch.tensor([[5,6], [7,8]])\n",
    "\n",
    "t = torch.stack([x,y])\n",
    "print(t)"
   ]
  },
  {
   "cell_type": "code",
   "execution_count": 25,
   "metadata": {},
   "outputs": [
    {
     "name": "stdout",
     "output_type": "stream",
     "text": [
      "tensor([[1, 2],\n",
      "        [3, 4],\n",
      "        [5, 6]])\n",
      "tensor([[1, 2]])\n",
      "tensor([[3, 4]])\n",
      "tensor([[5, 6]])\n"
     ]
    }
   ],
   "source": [
    "# 기존 그룹 갯수만큼 쪼개기\n",
    "t = torch.tensor([[1,2], [3,4], [5,6]])\n",
    "print(t)\n",
    "\n",
    "a, b, c = torch.chunk(t, 3, dim=0)\n",
    "print(a)\n",
    "print(b)\n",
    "print(c)"
   ]
  },
  {
   "cell_type": "code",
   "execution_count": 27,
   "metadata": {},
   "outputs": [
    {
     "name": "stdout",
     "output_type": "stream",
     "text": [
      "tensor([[0.5542, 0.1422, 0.0341, 0.8121, 0.8227, 0.8062],\n",
      "        [0.3616, 0.2866, 0.8171, 0.1142, 0.7593, 0.4527],\n",
      "        [0.2661, 0.7982, 0.6699, 0.4326, 0.7044, 0.6123]])\n",
      "tensor([[0.5542, 0.1422, 0.0341],\n",
      "        [0.3616, 0.2866, 0.8171],\n",
      "        [0.2661, 0.7982, 0.6699]])\n",
      "tensor([[0.8121, 0.8227, 0.8062],\n",
      "        [0.1142, 0.7593, 0.4527],\n",
      "        [0.4326, 0.7044, 0.6123]])\n"
     ]
    }
   ],
   "source": [
    "# 기존 그룹 덩어리 단위로 쪼개기\n",
    "\n",
    "t = torch.rand(3, 6)\n",
    "print(t)\n",
    "\n",
    "x, y = torch.split(t, 3, dim=1) # 열을 기준으로 3개씩 쪼개기. dim=1 열\n",
    "print(x)\n",
    "print(y)"
   ]
  }
 ],
 "metadata": {
  "kernelspec": {
   "display_name": "pytorch_env",
   "language": "python",
   "name": "python3"
  },
  "language_info": {
   "codemirror_mode": {
    "name": "ipython",
    "version": 3
   },
   "file_extension": ".py",
   "mimetype": "text/x-python",
   "name": "python",
   "nbconvert_exporter": "python",
   "pygments_lexer": "ipython3",
   "version": "3.12.3"
  }
 },
 "nbformat": 4,
 "nbformat_minor": 2
}
