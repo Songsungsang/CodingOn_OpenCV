{
 "cells": [
  {
   "cell_type": "markdown",
   "metadata": {},
   "source": [
    "## PyTorch Quiz 2 : 연산"
   ]
  },
  {
   "cell_type": "code",
   "execution_count": 3,
   "metadata": {},
   "outputs": [],
   "source": [
    "import torch"
   ]
  },
  {
   "cell_type": "markdown",
   "metadata": {},
   "source": [
    "### 1. 덧셈과 뺄셈 연습\n",
    "1. [2, 4, 6]으로 초기화된 1D Tensor를 생성하세요.\n",
    "2. 각 요소에 5를 더한 Tensor를 출력하세요.\n",
    "3. 각 요소에서 3을 뺀 Tensor를 출력하세요.\n"
   ]
  },
  {
   "cell_type": "code",
   "execution_count": 15,
   "metadata": {},
   "outputs": [
    {
     "name": "stdout",
     "output_type": "stream",
     "text": [
      "plus 5:  tensor([ 7,  9, 11])\n",
      "minus 3:  tensor([-1,  1,  3])\n"
     ]
    }
   ],
   "source": [
    "# 여기에 코드를 작성합니다\n",
    "tensor = torch.tensor([2, 4, 6])\n",
    "print(\"plus 5: \", tensor + 5)\n",
    "print(\"minus 3: \", tensor - 3)"
   ]
  },
  {
   "cell_type": "markdown",
   "metadata": {},
   "source": [
    "### 2. Tensor 간의 연산\n",
    "1. x3 크기의 Tensor 2개를 생성하세요.\n",
    "2. 두 Tensor를 각각 더하고(+), 빼고(-), 곱하고(*), 나누세요(/)."
   ]
  },
  {
   "cell_type": "code",
   "execution_count": 16,
   "metadata": {},
   "outputs": [
    {
     "name": "stdout",
     "output_type": "stream",
     "text": [
      "tensor([[1.7321e-04, 6.4118e-01, 9.4369e-01],\n",
      "        [8.2576e-01, 6.2879e-01, 8.9889e-01],\n",
      "        [6.8938e-01, 8.1050e-01, 3.4605e-01]])\n",
      "tensor([[0.5418, 0.6056, 0.1441],\n",
      "        [0.3898, 0.9041, 0.5123],\n",
      "        [0.3373, 0.7555, 0.4511]])\n",
      "더하기:  tensor([[0.5420, 1.2468, 1.0878],\n",
      "        [1.2156, 1.5329, 1.4112],\n",
      "        [1.0267, 1.5660, 0.7971]])\n",
      "빼기:  tensor([[-0.5416,  0.0356,  0.7996],\n",
      "        [ 0.4359, -0.2753,  0.3866],\n",
      "        [ 0.3520,  0.0550, -0.1050]])\n",
      "곱하기:  tensor([[9.3846e-05, 3.8829e-01, 1.3600e-01],\n",
      "        [3.2190e-01, 5.6849e-01, 4.6046e-01],\n",
      "        [2.3256e-01, 6.1232e-01, 1.5610e-01]])\n",
      "나누기:  tensor([[3.1970e-04, 1.0588e+00, 6.5483e+00],\n",
      "        [2.1183e+00, 6.9550e-01, 1.7548e+00],\n",
      "        [2.0436e+00, 1.0728e+00, 7.6716e-01]])\n"
     ]
    }
   ],
   "source": [
    "# 여기에 코드를 작성합니다\n",
    "a = torch.rand(3, 3)\n",
    "b = torch. rand(3, 3)\n",
    "\n",
    "print(a)\n",
    "print(b)\n",
    "\n",
    "print(\"더하기: \", a + b)\n",
    "print(\"빼기: \", a - b)\n",
    "print(\"곱하기: \", a * b)\n",
    "print(\"나누기: \", a / b)"
   ]
  },
  {
   "cell_type": "markdown",
   "metadata": {},
   "source": [
    "### 3. 행렬의 내적 연산\n",
    "1. 2×3 크기의 Tensor A를 다음 값으로 생성하세요:\n",
    "  - `[[1,2,3], [4,5,6]]`\n",
    "2. 3×2 크기의 Tensor B를 다음 값으로 생성하세요:\n",
    "  - `[[7,8],[9,10],[11,12]]`\n",
    "3. 두 Tensor의 행렬 내적(행렬 곱) A×B를 계산하여 출력하세요."
   ]
  },
  {
   "cell_type": "code",
   "execution_count": 17,
   "metadata": {},
   "outputs": [
    {
     "name": "stdout",
     "output_type": "stream",
     "text": [
      "내적(행렬 곱):  tensor([[ 58,  64],\n",
      "        [139, 154]])\n"
     ]
    }
   ],
   "source": [
    "# 여기에 코드를 작성합니다\n",
    "a = torch.tensor([[1,2,3], [4,5,6]])\n",
    "b = torch.tensor([[7,8], [9,10], [11,12]])\n",
    "\n",
    "r = torch.matmul(a, b)\n",
    "print(\"내적(행렬 곱): \", r)"
   ]
  },
  {
   "cell_type": "markdown",
   "metadata": {},
   "source": [
    "### 4. 행렬 연산과 값 제한\n",
    "1. 이전 문제에서 계산된 행렬 R(결과 행렬 A×B)를 사용하세요\n",
    "2. 행렬 R의 각 요소에 10을 더하세요.\n",
    "3. R의 각 요소를 100보다 큰 값은 100으로, 나머지는 그대로 유지하도록 제한하세요."
   ]
  },
  {
   "cell_type": "code",
   "execution_count": 11,
   "metadata": {},
   "outputs": [
    {
     "name": "stdout",
     "output_type": "stream",
     "text": [
      "tensor([[ 58,  64],\n",
      "        [139, 154]])\n",
      "tensor([[ 68,  74],\n",
      "        [149, 164]])\n",
      "tensor([[ 68,  74],\n",
      "        [100, 100]])\n"
     ]
    }
   ],
   "source": [
    "# 여기에 코드를 작성합니다\n",
    "print(r)\n",
    "r = r + 10\n",
    "print(r)\n",
    "r = torch.clamp(r, max=100)\n",
    "print(r)"
   ]
  },
  {
   "cell_type": "markdown",
   "metadata": {},
   "source": [
    "### 5. 행렬의 열별 합계 계산\n",
    "1. 5×5 크기의 Tensor M을 다음 값으로 생성하세요\n",
    "    ```\n",
    "    [[1, 2, 3, 4, 5],\n",
    "     [6, 7, 8, 9, 10],\n",
    "     [11, 12, 13, 14, 15],\n",
    "     [16, 17, 18, 19, 20],\n",
    "     [21, 22, 23, 24, 25]]\n",
    "    ```\n",
    "\n",
    "2. 행렬 M의 각 열의 합계를 계산하세요."
   ]
  },
  {
   "cell_type": "code",
   "execution_count": 18,
   "metadata": {},
   "outputs": [
    {
     "name": "stdout",
     "output_type": "stream",
     "text": [
      "Column sum:  tensor([55, 60, 65, 70, 75])\n"
     ]
    }
   ],
   "source": [
    "# 여기에 코드를 작성합니다\n",
    "M = torch.tensor([[1, 2, 3, 4, 5],\n",
    "     [6, 7, 8, 9, 10],\n",
    "     [11, 12, 13, 14, 15],\n",
    "     [16, 17, 18, 19, 20],\n",
    "     [21, 22, 23, 24, 25]])\n",
    "\n",
    "print(\"Column sum:\", torch.sum(M, dim=0))"
   ]
  }
 ],
 "metadata": {
  "kernelspec": {
   "display_name": "pytorch_env",
   "language": "python",
   "name": "python3"
  },
  "language_info": {
   "codemirror_mode": {
    "name": "ipython",
    "version": 3
   },
   "file_extension": ".py",
   "mimetype": "text/x-python",
   "name": "python",
   "nbconvert_exporter": "python",
   "pygments_lexer": "ipython3",
   "version": "3.12.3"
  }
 },
 "nbformat": 4,
 "nbformat_minor": 2
}
