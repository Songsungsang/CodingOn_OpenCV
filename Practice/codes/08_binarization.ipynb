{
 "cells": [
  {
   "cell_type": "markdown",
   "metadata": {},
   "source": [
    "## 08. 이진화\n",
    "- 임계값을 기준으로 색상을 흰색과 검은색으로 나누는 것\n",
    "- 색상의 밝기 기준이기에 Grayscale에서 가능"
   ]
  },
  {
   "cell_type": "code",
   "execution_count": 1,
   "metadata": {},
   "outputs": [],
   "source": [
    "import cv2\n",
    "import numpy as np\n",
    "\n",
    "BOOK = \"../images/book.jpg\"\n",
    "PARROT_PATH = \"../images/parrot.jpg\""
   ]
  },
  {
   "cell_type": "markdown",
   "metadata": {},
   "source": [
    "### 8-1. 기본 이진화\n",
    "- ret, binary = cv2.threshold()"
   ]
  },
  {
   "cell_type": "code",
   "execution_count": 11,
   "metadata": {},
   "outputs": [
    {
     "name": "stdout",
     "output_type": "stream",
     "text": [
      "190.0\n",
      "[[255 255 255 ...   0   0   0]\n",
      " [255 255 255 ... 255 255   0]\n",
      " [255 255 255 ... 255 255 255]\n",
      " ...\n",
      " [  0   0   0 ...   0   0   0]\n",
      " [  0   0   0 ...   0   0   0]\n",
      " [  0   0   0 ...   0   0   0]]\n"
     ]
    }
   ],
   "source": [
    "img = cv2.imread(BOOK, cv2.IMREAD_GRAYSCALE) # 이미지를 흑백 사진으로\n",
    "\n",
    "ret, binary = cv2.threshold(img, 190, 255, cv2.THRESH_BINARY) # 원본, 임계값, 0과 대비될 값, 옵션 - 임계값보다 크면 흰색 작으면 검은색\n",
    "print(ret) # 임계값이 ret으로 반환\n",
    "print(binary) # 255와 0으로 나누어진 값\n",
    "\n",
    "cv2.imshow(\"img\", img)\n",
    "cv2.imshow(\"binary\", binary)\n",
    "\n",
    "cv2.waitKey(0)\n",
    "cv2.destroyAllWindows()"
   ]
  },
  {
   "cell_type": "code",
   "execution_count": 19,
   "metadata": {},
   "outputs": [],
   "source": [
    "# Track bar 만들기 연습\n",
    "img = cv2.imread(PARROT_PATH)\n",
    "\n",
    "name = \"trackbar\"\n",
    "cv2.namedWindow(name) # 창을 미리 생성\n",
    "trackbar_name = \"Rotation\"\n",
    "cv2.createTrackbar(trackbar_name, name, 0, 360, lambda x: x)\n",
    "while True:\n",
    "    angle = cv2.getTrackbarPos(trackbar_name, name) # angle을 name의 창의 trackbar에서 설정한 값으로 함\n",
    "    center = (img.shape[1] // 2, img.shape[0] // 2)\n",
    "    affine = cv2.getRotationMatrix2D(center, angle, 1) # angle - trackbar의 값 반영\n",
    "    dst = cv2.warpAffine(img, affine, (img.shape[1], img.shape[0])) # matrix 입력하는 부분에 affine을 입력\n",
    "\n",
    "    cv2.imshow(name, dst) # 반영되어 변형된 창 표시. 이름은  name에서 정의된 이름 따라감\n",
    "\n",
    "    if cv2.waitKey(1) == ord(\"q\") : #변형에 계속 대응하기 위해 대기시간 1밀리초 부여\n",
    "        break\n",
    "\n",
    "cv2.destroyAllWindows()"
   ]
  },
  {
   "cell_type": "markdown",
   "metadata": {},
   "source": [
    "### 실습 2-2. Threshold에 적용\n",
    "- 트랙바 연습을 참고하여 Threshold에 트랙바 적용해보기"
   ]
  },
  {
   "cell_type": "code",
   "execution_count": 20,
   "metadata": {},
   "outputs": [],
   "source": [
    "img = cv2.imread(BOOK, cv2.IMREAD_GRAYSCALE)\n",
    "\n",
    "name = \"trackbar\"\n",
    "cv2.namedWindow(name)\n",
    "trackbar_name = \"Threshold\"\n",
    "cv2.createTrackbar(trackbar_name, name, 0, 255, lambda x: x) # 화면에 트랙바 추가\n",
    "while True :\n",
    "    threshold = cv2.getTrackbarPos(trackbar_name, name) # 트랙바 값 기준으로 임계값 바꾸기\n",
    "    ret, binary = cv2.threshold(img, threshold, 255, cv2.THRESH_BINARY)\n",
    "\n",
    "    if not ret :\n",
    "        break\n",
    "\n",
    "    cv2.imshow(name, binary)\n",
    "\n",
    "    if cv2.waitKey(1) == ord(\"q\") :\n",
    "        break\n",
    "\n",
    "cv2.destroyAllWindows()"
   ]
  },
  {
   "cell_type": "markdown",
   "metadata": {},
   "source": [
    "### 실습 2-1. 컬러 팔레트 만들기\n",
    "- RGB 값을 변경할 수 있는 트랙바를 만들고\n",
    "- RGB 값이 바뀜에 따라 배경색이 변하는 화면을 만들자\n",
    "- 기본 색상은 검은색으로 설정\n",
    "- 시간이 남는다면 트랙바의 작동을 제어할 수 있는 ON/OFF 스위치도 추가"
   ]
  },
  {
   "cell_type": "code",
   "execution_count": 8,
   "metadata": {},
   "outputs": [],
   "source": [
    "img = np.zeros((400, 600, 3), dtype=np.uint8) # 검은 화면\n",
    "\n",
    "name = \"trackbar\"\n",
    "cv2.namedWindow(name)\n",
    "trackbar1 = \"Red\"\n",
    "trackbar2 = \"Green\"\n",
    "trackbar3 = \"Blue\"\n",
    "trackbar4 = \"0:OFF\\n1:ON\"\n",
    "cv2.createTrackbar(trackbar1, name, 0, 255, lambda x: x) # 화면에 트랙바 추가\n",
    "cv2.createTrackbar(trackbar2, name, 0, 255, lambda x: x) # 화면에 트랙바 추가\n",
    "cv2.createTrackbar(trackbar3, name, 0, 255, lambda x: x) # 화면에 트랙바 추가\n",
    "cv2.createTrackbar(trackbar4, name, 0, 1, lambda x: x) # 0 일떄 off, 1일때 on\n",
    "\n",
    "while True:\n",
    "    red = cv2.getTrackbarPos(trackbar1, name)\n",
    "    green = cv2.getTrackbarPos(trackbar2, name)\n",
    "    blue = cv2.getTrackbarPos(trackbar3, name)\n",
    "    \n",
    "    on_off = cv2.getTrackbarPos(trackbar4, name)\n",
    "\n",
    "    if on_off == 1 : # on/off 값이 1일때만\n",
    "        img[:] = (blue, green, red) # RGB 값 반영\n",
    "    else :\n",
    "        img[:] = 0\n",
    "\n",
    "    cv2.imshow(name, img)\n",
    "\n",
    "    if cv2.waitKey(1) == ord(\"q\") :\n",
    "        break\n",
    "\n",
    "cv2.destroyAllWindows()"
   ]
  },
  {
   "cell_type": "markdown",
   "metadata": {},
   "source": [
    "### 8-2. 적응형 이진화\n",
    "- 블록마다 다른 임계값을 적용"
   ]
  },
  {
   "cell_type": "code",
   "execution_count": 3,
   "metadata": {},
   "outputs": [],
   "source": [
    "img = cv2.imread(BOOK, cv2.IMREAD_GRAYSCALE)\n",
    "\n",
    "name = \"Adaptive\"\n",
    "cv2.namedWindow(name)\n",
    "\n",
    "binary = cv2.adaptiveThreshold(img, 255, cv2.ADAPTIVE_THRESH_MEAN_C, cv2.THRESH_BINARY, 25, 1) # 소스, 최대값, 적응형 이진화를 할 방법\n",
    "\n",
    "cv2.imshow(name, binary)\n",
    "cv2.waitKey(0)\n",
    "cv2.destroyAllWindows()"
   ]
  },
  {
   "cell_type": "code",
   "execution_count": 5,
   "metadata": {},
   "outputs": [],
   "source": [
    "img = cv2.imread(BOOK, cv2.IMREAD_GRAYSCALE)\n",
    "\n",
    "name = \"Adaptive\"\n",
    "cv2.namedWindow(name)\n",
    "\n",
    "\n",
    "cv2.createTrackbar(\"block_size\", name, 25, 100, lambda x: x) # 1보다 큰 홀수만 가능\n",
    "cv2.createTrackbar(\"C\", name, 1, 10, lambda x: x) # 일반적으로 양수를 사용\n",
    "\n",
    "while True:\n",
    "    block_size = cv2.getTrackbarPos(\"block_size\", name) # 블럭 사이즈가 100이 되면 일반 threshold와 비슷하게 변함. \n",
    "    #사이즈가 작을수록, 10 미만일수록 구별되는 구간들 많아짐\n",
    "    C = cv2.getTrackbarPos(\"C\", name) # C가 커질수록 전체적으로 하얗게 변함\n",
    "\n",
    "    if block_size <= 1: #1보다 작거나 같으면\n",
    "        block_size = 3\n",
    "\n",
    "    if block_size % 2 == 0: # 짝수면 홀수로\n",
    "        block_size += 1\n",
    "\n",
    "    binary = cv2.adaptiveThreshold(img, 255, cv2.ADAPTIVE_THRESH_MEAN_C, cv2.THRESH_BINARY, block_size, C) # 소스, 최대값, 적응형 이진화를 할 방법\n",
    "    cv2.imshow(name, binary)\n",
    "    if cv2.waitKey(1) == ord(\"q\"):\n",
    "        break\n",
    "\n",
    "\n",
    "cv2.destroyAllWindows()"
   ]
  },
  {
   "cell_type": "markdown",
   "metadata": {},
   "source": [
    "### 8-3. 오츠 알고리즘\n",
    "- 최적의 Threshold를 찾는 알고리즘"
   ]
  },
  {
   "cell_type": "code",
   "execution_count": 8,
   "metadata": {},
   "outputs": [],
   "source": [
    "img = cv2.imread(BOOK, cv2.IMREAD_GRAYSCALE)\n",
    "ret_1, binary = cv2.threshold(img, 127, 255, cv2.THRESH_BINARY) # threshold 값 고정으로 하는 기존방식\n",
    "ret_2, otsu = cv2.threshold(img, -1, 255, cv2.THRESH_BINARY | cv2.THRESH_OTSU) # threshold 값을 자동으로 계산을 하려고 함. 임계점에 아무 값이나 넣어도 상관 없음\n",
    "\n",
    "#print(ret_1, ret_2) # 앞은 127, 뒤는 오츠 알고리즘이 찾은 138이 나왔음\n",
    "\n",
    "cv2.imshow(\"img\", img)\n",
    "cv2.imshow(\"threshold\", binary)\n",
    "cv2.imshow(\"otsu\", otsu)\n",
    "\n",
    "cv2.waitKey(0)\n",
    "cv2.destroyAllWindows()"
   ]
  }
 ],
 "metadata": {
  "kernelspec": {
   "display_name": "my_cv",
   "language": "python",
   "name": "python3"
  },
  "language_info": {
   "codemirror_mode": {
    "name": "ipython",
    "version": 3
   },
   "file_extension": ".py",
   "mimetype": "text/x-python",
   "name": "python",
   "nbconvert_exporter": "python",
   "pygments_lexer": "ipython3",
   "version": "3.12.3"
  }
 },
 "nbformat": 4,
 "nbformat_minor": 2
}
