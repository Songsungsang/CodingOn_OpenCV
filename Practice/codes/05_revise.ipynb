{
 "cells": [
  {
   "cell_type": "code",
   "execution_count": 14,
   "metadata": {},
   "outputs": [],
   "source": [
    "import cv2\n",
    "import numpy as np\n",
    "\n",
    "PARROT_PATH = \"../images/parrot.jpg\""
   ]
  },
  {
   "cell_type": "code",
   "execution_count": 4,
   "metadata": {},
   "outputs": [],
   "source": [
    "# 빈 검은화면\n",
    "img = np.zeros((400, 600, 3), dtype=np.uint8)\n",
    "img[100:200, 300:400] = (255, 255, 255)\n",
    "cv2.imshow(\"img\", img)\n",
    "cv2.waitKey(0)\n",
    "cv2.destroyAllWindows()"
   ]
  },
  {
   "cell_type": "code",
   "execution_count": 5,
   "metadata": {},
   "outputs": [],
   "source": [
    "# 선 그리기\n",
    "img = np.zeros((400, 600, 3), dtype=np.uint8)\n",
    "cv2.line(img, (100,100), (300,300), (255, 0, 0), 5, cv2.LINE_AA)\n",
    "\n",
    "cv2.imshow(\"img\", img)\n",
    "cv2.waitKey(0)\n",
    "cv2.destroyAllWindows()"
   ]
  },
  {
   "cell_type": "code",
   "execution_count": 9,
   "metadata": {},
   "outputs": [],
   "source": [
    "# 도형 그리기\n",
    "img = np.zeros((400, 600, 3), dtype=np.uint8)\n",
    "cv2.circle(img, (200,300), 50, (0, 255, 0), cv2.FILLED)\n",
    "cv2.rectangle(img, (150, 150), (250, 250), (0, 0, 255), 10)\n",
    "\n",
    "cv2.imshow(\"img\", img)\n",
    "cv2.waitKey(0)\n",
    "cv2.destroyAllWindows()"
   ]
  },
  {
   "cell_type": "code",
   "execution_count": 12,
   "metadata": {},
   "outputs": [],
   "source": [
    "#텍스트\n",
    "img = np.zeros((400, 600, 3), dtype=np.uint8)\n",
    "cv2.putText(img, \"Hello World\", (50, 50), cv2.FONT_HERSHEY_TRIPLEX | cv2.FONT_ITALIC, 2, (255, 255, 0), 2)\n",
    "\n",
    "cv2.imshow(\"img\", img)\n",
    "cv2.waitKey(0)\n",
    "cv2.destroyAllWindows()"
   ]
  },
  {
   "cell_type": "code",
   "execution_count": 15,
   "metadata": {},
   "outputs": [],
   "source": [
    "# 이미지 조정\n",
    "img = cv2.imread(PARROT_PATH)\n",
    "dst = cv2.resize(img, None, fx=1.5, fy=1.5)\n",
    "\n",
    "cv2.imshow(\"img\", dst)\n",
    "cv2.waitKey(0)\n",
    "cv2.destroyAllWindows()"
   ]
  },
  {
   "cell_type": "code",
   "execution_count": 19,
   "metadata": {},
   "outputs": [],
   "source": [
    "img = cv2.imread(PARROT_PATH)\n",
    "\n",
    "affine = cv2.getRotationMatrix2D((img.shape[1]//2, img.shape[0]//2), -60, 1)\n",
    "dst = cv2.warpAffine(img, affine, (img.shape[1], img.shape[0]))\n",
    "\n",
    "cv2.imshow(\"img\", dst)\n",
    "cv2.waitKey(0)\n",
    "cv2.destroyAllWindows()"
   ]
  }
 ],
 "metadata": {
  "kernelspec": {
   "display_name": "my_cv",
   "language": "python",
   "name": "python3"
  },
  "language_info": {
   "codemirror_mode": {
    "name": "ipython",
    "version": 3
   },
   "file_extension": ".py",
   "mimetype": "text/x-python",
   "name": "python",
   "nbconvert_exporter": "python",
   "pygments_lexer": "ipython3",
   "version": "3.12.3"
  }
 },
 "nbformat": 4,
 "nbformat_minor": 2
}
