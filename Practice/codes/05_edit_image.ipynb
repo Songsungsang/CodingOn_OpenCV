{
 "cells": [
  {
   "cell_type": "markdown",
   "metadata": {},
   "source": [
    "### 05. 이미지 조정"
   ]
  },
  {
   "cell_type": "code",
   "execution_count": 57,
   "metadata": {},
   "outputs": [],
   "source": [
    "import cv2\n",
    "import numpy as np\n",
    "\n",
    "PARROT_PATH = \"../images/parrot.jpg\"\n",
    "PARROT_VIDEO = \"../videos/parrot.mp4\"\n",
    "JOHN_PATH = \"../images/john.png\"\n",
    "JCASTLE_PATH = \"../images/jcastle.png\""
   ]
  },
  {
   "cell_type": "markdown",
   "metadata": {},
   "source": [
    "### 5-1. 이미지 복사"
   ]
  },
  {
   "cell_type": "code",
   "execution_count": 3,
   "metadata": {},
   "outputs": [],
   "source": [
    "img = cv2.imread(PARROT_PATH)\n",
    "\n",
    "shallow_copy = img # 얕은 복사\n",
    "deep_copy = img.copy()\n",
    "\n",
    "gray = cv2.cvtColor(shallow_copy, cv2.COLOR_BGR2GRAY)\n",
    "\n",
    "cv2.imshow(\"original\", img)\n",
    "cv2.imshow(\"shallow\", gray)\n",
    "\n",
    "cv2.waitKey(0)\n",
    "cv2.destroyAllWindows()"
   ]
  },
  {
   "cell_type": "markdown",
   "metadata": {},
   "source": [
    "## 5-2. 리사이즈"
   ]
  },
  {
   "cell_type": "code",
   "execution_count": 7,
   "metadata": {},
   "outputs": [],
   "source": [
    "img = cv2.imread(PARROT_PATH)\n",
    "\n",
    "# 고정 크기를 이용해 조정\n",
    "#dst = cv2.resize(img, (1280, 850))\n",
    "\n",
    "# 비율로 조정\n",
    "dst = cv2.resize(img, None, fx = 1.5, fy = 1.5)\n",
    "\n",
    "\n",
    "cv2.imshow(\"resize\", dst)\n",
    "cv2.waitKey(0)\n",
    "cv2.destroyAllWindows()"
   ]
  },
  {
   "cell_type": "code",
   "execution_count": 10,
   "metadata": {},
   "outputs": [],
   "source": [
    "img = cv2.imread(PARROT_PATH)\n",
    "\n",
    "# 비율로 조정\n",
    "dst = cv2.resize(img, None, fx=3, fy=3, interpolation=cv2.INTER_NEAREST)\n",
    "cubic = cv2.resize(img, None, fx=3, fy=3, interpolation=cv2.INTER_CUBIC)\n",
    "\n",
    "cv2.imshow(\"resize\", dst)\n",
    "cv2.imshow(\"resize cubic\", cubic)\n",
    "cv2.waitKey(0)\n",
    "cv2.destroyAllWindows()"
   ]
  },
  {
   "cell_type": "code",
   "execution_count": 18,
   "metadata": {},
   "outputs": [],
   "source": [
    "img = cv2.imread(PARROT_PATH)\n",
    "\n",
    "size_up = cv2.pyrUp(img) # 이미지 피라미드 업. 2배수로 늘리기\n",
    "size_down = cv2.pyrDown(img) # 2배수로 줄이기\n",
    "\n",
    "cv2.imshow(\"original\", img)\n",
    "cv2.imshow(\"Pyr Up\", size_up)\n",
    "cv2.imshow(\"Pyr Down\", size_down)\n",
    "cv2.waitKey(0)\n",
    "cv2.destroyAllWindows()"
   ]
  },
  {
   "cell_type": "markdown",
   "metadata": {},
   "source": [
    "## 실습\n",
    "- 영상 선택하고\n",
    "- 이미지 리사이즈 방법 참고하여\n",
    "- 영상의 크기를 1.5배로 리사이즈 하여 출력"
   ]
  },
  {
   "cell_type": "code",
   "execution_count": 17,
   "metadata": {},
   "outputs": [],
   "source": [
    "cap = cv2.VideoCapture(PARROT_VIDEO)\n",
    "fps = cap.get(cv2.CAP_PROP_FPS)\n",
    "\n",
    "while cap.isOpened() :\n",
    "    ret, frame = cap.read()\n",
    "\n",
    "    if not ret :\n",
    "        break\n",
    "\n",
    "    cubic = cv2.resize(frame, None, fx = 1.5, fy = 1.5, interpolation = cv2.INTER_CUBIC)\n",
    "\n",
    "    cv2.imshow(\"resized\", cubic)\n",
    "\n",
    "    if cv2.waitKey(int(1000/fps)) != -1 : \n",
    "        break\n",
    "\n",
    "cap.release()\n",
    "cv2.destroyAllWindows()"
   ]
  },
  {
   "cell_type": "markdown",
   "metadata": {},
   "source": [
    "### 5-3. 이미지 자르기"
   ]
  },
  {
   "cell_type": "code",
   "execution_count": 27,
   "metadata": {},
   "outputs": [],
   "source": [
    "img = cv2.imread(PARROT_PATH)\n",
    "\n",
    "cropped = img[100:200, 150:250] # 이미지의 가로와 세로 범위를 지정해서 잘라낼 수 있다\n",
    "img[100:200, 250:350] = cropped # 원본 이미지에 잘라낸 이미지를 넣음\n",
    "\n",
    "cv2.imshow(\"Parrot\", img)\n",
    "#cv2.imshow(\"Parrot Cropped\", cropped)\n",
    "\n",
    "cv2.waitKey(0)\n",
    "cv2.destroyAllWindows()"
   ]
  },
  {
   "cell_type": "markdown",
   "metadata": {},
   "source": [
    "### 이미지 대칭"
   ]
  },
  {
   "cell_type": "code",
   "execution_count": 30,
   "metadata": {},
   "outputs": [],
   "source": [
    "img = cv2.imread(PARROT_PATH)\n",
    "cubic = cv2.resize(img, None, fx=0.5, fy=0.5, interpolation=cv2.INTER_CUBIC)\n",
    "\n",
    "dst_1 = cv2.flip(cubic, 1) # 1 = 좌우 반전\n",
    "dst_2 = cv2.flip(cubic, 0) # 0 = 상하 반전\n",
    "dst_3 = cv2.flip(cubic, -1) # -1 = 상하좌우 반전\n",
    "\n",
    "cv2.imshow(\"original\", cubic)\n",
    "cv2.imshow(\"dst_1\", dst_1)\n",
    "cv2.imshow(\"dst_2\", dst_2)\n",
    "cv2.imshow(\"dst_3\", dst_3)\n",
    "\n",
    "cv2.waitKey(0)\n",
    "cv2.destroyAllWindows()"
   ]
  },
  {
   "cell_type": "markdown",
   "metadata": {},
   "source": [
    "### 실습 이미지 조정\n",
    "- 원본 이미지 가로세로 1/2 축소\n",
    "- 1번의 이미지를 좌우 반전\n",
    "- 2번의 이미지를 원본과 동일한 크기의 복사 이미지 우하단에 배치"
   ]
  },
  {
   "cell_type": "code",
   "execution_count": 78,
   "metadata": {},
   "outputs": [],
   "source": [
    "img = cv2.imread(JCASTLE_PATH)\n",
    "cubic = cv2.resize(img, None, fx=0.5, fy=0.5, interpolation=cv2.INTER_CUBIC)\n",
    "flipped = cv2.flip(cubic, 1)\n",
    "\n",
    "height, width, channel = img.shape\n",
    "width = int(width * 0.5) # 시작점 용 2배 작게\n",
    "height = int(height * 0.5)\n",
    "img[height: height + flipped.shape[0], width: width + flipped.shape[1]] = flipped\n",
    "\n",
    "cv2.imshow(\"original_and_small\", img)\n",
    "\n",
    "cv2.waitKey(0)\n",
    "cv2.destroyAllWindows()"
   ]
  },
  {
   "cell_type": "code",
   "execution_count": null,
   "metadata": {},
   "outputs": [],
   "source": [
    "# 리더님 버전 코드\n",
    "img = cv2.imread(JCASTLE_PATH)\n",
    "dst = cv2.pyrDown(img) # 알아서 1/2로 축소\n",
    "dst = cv2.flip(dst, 1) # 좌우반전까지 완료\n",
    "\n",
    "iheight, iwidth, ichannel = img.shape\n",
    "dheight, dwidth, dchannel = dst.shape\n",
    "\n",
    "img[iheight - dheight:iheight, iwidth - dwidth:iwidth] = dst # 시작 지점을 전체 사진의 가로세로 - 줄인 사진의 가로세로\n",
    "\n",
    "cv2.imshow(\"img\", img)\n",
    "cv2.waitKey(0)\n",
    "cv2.destroyAllWindows()"
   ]
  },
  {
   "cell_type": "code",
   "execution_count": 61,
   "metadata": {},
   "outputs": [
    {
     "data": {
      "text/plain": [
       "(301, 299, 3)"
      ]
     },
     "execution_count": 61,
     "metadata": {},
     "output_type": "execute_result"
    }
   ],
   "source": [
    "img.shape"
   ]
  },
  {
   "cell_type": "markdown",
   "metadata": {},
   "source": [
    "### 이미지 채널 분리와 병합"
   ]
  },
  {
   "cell_type": "code",
   "execution_count": 82,
   "metadata": {},
   "outputs": [],
   "source": [
    "img = cv2.imread(PARROT_PATH)\n",
    "\n",
    "blue, green, red = cv2.split(img) # B G R 값 나눠서 계산\n",
    "\n",
    "#cv2.imshow(\"Blue\", blue)\n",
    "#cv2.imshow(\"Green\", green)\n",
    "#cv2.imshow(\"Red\", red)\n",
    "\n",
    "merged_image = cv2.merge([blue, green, red])\n",
    "cv2.imshow(\"merged\", merged_image)\n",
    "\n",
    "cv2.waitKey(0)\n",
    "cv2.destroyAllWindows()"
   ]
  },
  {
   "cell_type": "markdown",
   "metadata": {},
   "source": [
    "### 5-4. 이미지 색상 변경"
   ]
  },
  {
   "cell_type": "code",
   "execution_count": 84,
   "metadata": {},
   "outputs": [],
   "source": [
    "img = cv2.imread(PARROT_PATH)\n",
    "gray = cv2.cvtColor(img, cv2.COLOR_BGR2GRAY) # 이미지를 BGR에서 GRAY로 바꾸기\n",
    "rgb = cv2.cvtColor(img, cv2.COLOR_BGR2RGB)\n",
    "\n",
    "cv2.imshow(\"gray\", gray)\n",
    "cv2.imshow(\"rgb\", rgb)\n",
    "\n",
    "cv2.waitKey(0)\n",
    "cv2.destroyAllWindows()"
   ]
  },
  {
   "cell_type": "code",
   "execution_count": 91,
   "metadata": {},
   "outputs": [
    {
     "data": {
      "text/plain": [
       "(640, 457)"
      ]
     },
     "execution_count": 91,
     "metadata": {},
     "output_type": "execute_result"
    }
   ],
   "source": [
    "gray.shape"
   ]
  },
  {
   "cell_type": "code",
   "execution_count": 90,
   "metadata": {},
   "outputs": [
    {
     "data": {
      "text/plain": [
       "(640, 457)"
      ]
     },
     "execution_count": 90,
     "metadata": {},
     "output_type": "execute_result"
    }
   ],
   "source": [
    "img = cv2.imread(PARROT_PATH, cv2.IMREAD_GRAYSCALE)\n",
    "\n",
    "img.shape"
   ]
  },
  {
   "cell_type": "code",
   "execution_count": 92,
   "metadata": {},
   "outputs": [],
   "source": [
    "img = cv2.imread(PARROT_PATH)\n",
    "gray = cv2.cvtColor(img, cv2.COLOR_BGR2GRAY) # 이미지를 BGR에서 GRAY로 바꾸기\n",
    "\n",
    "invert = 255 - gray # 흑백 사진의 각 위치들의 색깔 값은 0~255 값일것임. 그러면 255에서 빼주면 반전\n",
    "\n",
    "cv2.imshow(\"gray\", gray)\n",
    "cv2.imshow(\"inverted\", invert)\n",
    "\n",
    "cv2.waitKey(0)\n",
    "cv2.destroyAllWindows()"
   ]
  },
  {
   "cell_type": "markdown",
   "metadata": {},
   "source": [
    "### 5-5. 이미지 흐리기(GaussianBlur)"
   ]
  },
  {
   "cell_type": "code",
   "execution_count": null,
   "metadata": {},
   "outputs": [],
   "source": [
    "img = cv2.imread(PARROT_PATH)\n",
    "\n",
    "# 커널을 사용하는 방식\n",
    "# (3,3) (5,5) (7,7) 을 주로 사용\n",
    "# 어떤 값 주변의 값을 평균을 내서 흐려지게 함\n",
    "# 참조하는 값의 범위가 커지면, 더 많은 값의 평균 = 더 흐려짐\n",
    "dst = cv2.GaussianBlur(img)"
   ]
  },
  {
   "cell_type": "code",
   "execution_count": 93,
   "metadata": {},
   "outputs": [],
   "source": [
    "img = cv2.imread(PARROT_PATH)\n",
    "\n",
    "kernel_3 = cv2.GaussianBlur(img, (3,3), 0)\n",
    "kernel_5 = cv2.GaussianBlur(img, (5,5), 0)\n",
    "kernel_7 = cv2.GaussianBlur(img, (7,7), 0)\n",
    "\n",
    "cv2.imshow(\"kernel_3\", kernel_3)\n",
    "cv2.imshow(\"kernel_5\", kernel_5)\n",
    "cv2.imshow(\"kernel_7\", kernel_7)\n",
    "\n",
    "cv2.waitKey(0)\n",
    "cv2.destroyAllWindows()"
   ]
  },
  {
   "cell_type": "markdown",
   "metadata": {},
   "source": [
    "### 5-6. 이미지 회전\n",
    "- rotateCode\n",
    "    - cv2.ROTATE_90_CLOCKWISE : 시계방향 90도 회전\n",
    "    - cv2.ROTATE_180 : 180도 회전\n",
    "    - cv2.ROTATE_90_COUNTERCLOCKWISE : 반시계방향 90도 회전"
   ]
  },
  {
   "cell_type": "code",
   "execution_count": 95,
   "metadata": {},
   "outputs": [],
   "source": [
    "img = cv2.imread(PARROT_PATH)\n",
    "\n",
    "# rotate code는 3가지 종류\n",
    "dst_90 = cv2.rotate(img, cv2.ROTATE_90_CLOCKWISE)\n",
    "dst_180 = cv2.rotate(img, cv2.ROTATE_180)\n",
    "dst_90_counter = cv2.rotate(img, cv2.ROTATE_90_COUNTERCLOCKWISE)\n",
    "\n",
    "cv2.imshow(\"dst_90\", dst_90)\n",
    "cv2.imshow(\"dst_180\", dst_180)\n",
    "cv2.imshow(\"dst_90_counter\", dst_90_counter)\n",
    "\n",
    "cv2.waitKey(0)\n",
    "cv2.destroyAllWindows()"
   ]
  },
  {
   "cell_type": "code",
   "execution_count": null,
   "metadata": {},
   "outputs": [],
   "source": [
    "img = cv2.imread(PARROT_PATH)\n",
    "center = (img.shape[1] // 2, img.shape[0] // 2)\n",
    "affine = cv2.getRotationMatrix2D(center, -45, 1) # angle - 반시계 방향으로 적용됨\n",
    "\n",
    "dst = cv2.warpAffine(img, affine, (img.shape[1], img.shape[0])) # matrix 입력하는 부분에 affine을 입력\n",
    "\n",
    "cv2.imshow(\"img\", img)\n",
    "cv2.imshow(\"Rotate\", dst)\n",
    "\n",
    "cv2.waitKey(0)\n",
    "cv2.destroyAllWindows()"
   ]
  }
 ],
 "metadata": {
  "kernelspec": {
   "display_name": "my_cv",
   "language": "python",
   "name": "python3"
  },
  "language_info": {
   "codemirror_mode": {
    "name": "ipython",
    "version": 3
   },
   "file_extension": ".py",
   "mimetype": "text/x-python",
   "name": "python",
   "nbconvert_exporter": "python",
   "pygments_lexer": "ipython3",
   "version": "3.12.3"
  }
 },
 "nbformat": 4,
 "nbformat_minor": 2
}
