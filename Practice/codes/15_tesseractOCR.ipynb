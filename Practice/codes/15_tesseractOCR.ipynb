{
 "cells": [
  {
   "cell_type": "markdown",
   "metadata": {},
   "source": [
    "## 15. Tesseract OCR - 광학 문자인식"
   ]
  },
  {
   "cell_type": "code",
   "execution_count": 12,
   "metadata": {},
   "outputs": [],
   "source": [
    "import cv2\n",
    "from pytesseract import pytesseract as pyt\n",
    "import numpy as np\n",
    "\n",
    "pyt.tesseract_cmd =r\"C:\\Program Files\\Tesseract-OCR\\tesseract.exe\""
   ]
  },
  {
   "cell_type": "code",
   "execution_count": 3,
   "metadata": {},
   "outputs": [
    {
     "name": "stdout",
     "output_type": "stream",
     "text": [
      "'오징어게임2'도 글로벌 대박…외신\n",
      "혹평에도 이틀만에 93개국 1위\n",
      "\n"
     ]
    }
   ],
   "source": [
    "img = cv2.imread(\"../images/ocr_test.png\", cv2.IMREAD_GRAYSCALE)\n",
    "text = pyt.image_to_string(img, lang=\"kor\")\n",
    "print(text)"
   ]
  },
  {
   "cell_type": "markdown",
   "metadata": {},
   "source": [
    "### 15-1. 이미지 인식 테스트"
   ]
  },
  {
   "cell_type": "code",
   "execution_count": 5,
   "metadata": {},
   "outputs": [
    {
     "name": "stdout",
     "output_type": "stream",
     "text": [
      "THE INTERNET HAS SHORTENED YOUR ATTANTION SPAN. FOR THAT REASON,\n",
      "YOU ARE PROBABLY GOING TO LOOK AT THIS WALL OF TEXT AND SAY TL;OR.\n",
      "IF YOU ARE ABLE TO READ THIS ENTIRE WALL OF WRITTEN TEXT FROM TOP\n",
      "TO BOTTOM WITHOUT BEING DISTRACKED OR BORED, YOU PROBABLY SHOULD\n",
      "SPEND MORE TIME ON THE INTERNET. RESEARCHES SHOW THAT LESS THAN 4%\n",
      "OF XBOX 360 USERS ARE ABLE TO READ THIS ENTURE WALL OF TEXT. ONLY\n",
      "9% OF WII OWNERS SUCCEEDED IN THIS TEXT. PS3 OWNERS ACHIEVED A\n",
      "HIGHER SCORE OF 17%. AMONG PEOPLE WHO LIKE TO DEFINE THEMSELVES AS\n",
      "PC GAMERS, ALMOST 29% ARE ABLE TO READ THIS ENTIRE BLOCK OF WORDS.\n",
      "THE PERCENTAGE AMONG PEOPLE WHO DON’T PLAY VIDEO GAMES IS JUST\n",
      "ABOVE 34%. OF COURSE, THE STATISTICS YOU WERE JUST TOLD ARE FALSE\n",
      "AND MADE UP. IF YOU THOUGHT OTHERWISE, YOU MUST BE AN IDIOT OR A PC\n",
      "GAMING PRICK. DID YOU KNOW THERE IS A PLACE CALLED THE SOUTH\n",
      "SANDWICH ISLANDS? THE PREVIOUS QUESTION IS RETORICAL, AND YOU\n",
      "SHOULDNT ANSWER IT. THIS WALL OF TEXT WAS ACTUALLY WRITTEN BY A\n",
      "NON-ENGLISH SPEAKING PERSON. IF YOU FIND ANY GRAMMATICAL MISTAKES\n",
      "IN IT, PLEASE IGNORE THEM. FOR REASONS BEYOND THE WRITER?S CONTROL,\n",
      "SPELLING MISTAKES MIGHT BE FOUND ASWELL. THE WORD MIGHT IS HORRIBLY\n",
      "SIMILAR TO THE WORD MATE BUT THEY?RE NOT IDENTICAL. SAYING MATE\n",
      "OVER AND OVER AGAIN IS AN AUSTRALIAN STEREOTYPE. MANY PEOPLE WHO\n",
      "LIVE IN CANADA, USA, GREAT BRITAIN OR ANY OTHER ENGLISH-SPEAKIG\n",
      "COUNTRY CONFUSE AUSTRALIANS WITH AUSTRIANS. OVER 100,000\n",
      "AUSTRALIANS ACTUALLY LIVE IN GREECE, NOT AUSTRALIA. MODERN GREECE\n",
      "IS VERY DIFFERENT FROM ANCIENT GREECE, AND THE TWO SHOULD NOT BE\n",
      "CONFUSED. THE CAUCASUS IS AN UNDERRATED GEOGRAPHICAL BETWEEN THE\n",
      "BLACK AND CASPIAN SEAS. THE CAUCASUS HOLDS MANY NETURAL RESOURCES,\n",
      "HAS THE HIGHEST MOUNTAIN IN EUROPE IN IT AND CONTAINS ONE OF THE\n",
      "LAST UNSPOILED NATURAL ENVIROMENTS IN THE WORLD. I’M NOT KIDDING.\n",
      "GOOGLE IT UP. THE CURRENT WORLD POPULATION IS 6,980,560,683 PEOPLE.\n",
      "THIS YEAR ALONE, 76,173,739 BABIES WERE BORN. THIS NUMBER IS MORE\n",
      "THAN TWICE THAN THE NUMBER OF PEOPLE WHO DIED THIS YEAR. SAVING THE\n",
      "ENVIROMENT IS AN IMPORATANT ISSUE. THIS DAY ONLY, 11,985,000 MH\n",
      "WERE CREATED AND USEO FROM NON-RENEWABLE SOURCES. FROM RENEWABLE\n",
      "SOURCES, ONLY 2,884,000 MWH OF ENERGY WERE CREATED AND USED. THIS\n",
      "IS A HORRIBLE WASTE OF POTENTIAL AND POLUTION AS 115,240,000, 000\n",
      "MWH OF SOLAR ENERGY STROKE EARTH TODAY. THE LAST FEW STATISTICS\n",
      "WERE TAKEN FROM A SITE CALLED WORLDOMETERS. YOU ARE NOW MORE\n",
      "EDUCATED ABOUT SOME OF THE WORLD ISSUES. WHAT DO YOU DO IN ORDER TO\n",
      "FIX THESE ISSUES? THE ANSWER IS PROBABLY NOTHING SINCE YOU ARE\n",
      "SURFING ON THE INTERNET. DID YOU NOTICE HOW THIS ENTIRE BLOCK OF\n",
      "TEXT IS WRITTEN IN ALL-CAPS AND USING A VERY OLD FONT? THE REASON\n",
      "FOR THIS IS TO MAKE THE BLOCK OF TEXT EVEN LESS APPROACHABLE AND\n",
      "HARDER TO READ. IF YOU GOT HERE WITHOUT SKIPPING, YOU ARE PROBABLY\n",
      "VERY BORED. LET?S TEST HOW MUCH ATTENTION YOU WERE PAYING DURING\n",
      "THE 5 MINUTES IT TOOK YOU TO READ THIS TEXT. WITHOUT REREADING THE\n",
      "TEXT, TRY TO RECALL THE DIFFERENT SUBJECT DISCUSSED IN IT. PLEAST\n",
      "NOTE THAT THIS TEXT ISN’T EVEN MEANT TO BE FUNNY OR ANYTHING LIKE\n",
      "THAT, IT?S JUST A MOTHERF***ING LONG LIST OF WORDS. THANKFULLY,\n",
      "IT’S FINALLY COMING TO AN END. DON?T EXPECT ANYTHING SPECIAL NEAR\n",
      "THE ENDING. THE TEXT WILL NOW JUST CUT INTO BLANK, ENDING WITH &\n",
      "\n"
     ]
    }
   ],
   "source": [
    "img = cv2.imread(\"../images/text_sample.png\", cv2.IMREAD_GRAYSCALE)\n",
    "text = pyt.image_to_string(img, lang=\"eng\")\n",
    "print(text)\n",
    "\n",
    "cv2.imshow(\"img\", img)\n",
    "cv2.waitKey(0)\n",
    "cv2.destroyAllWindows()"
   ]
  },
  {
   "cell_type": "code",
   "execution_count": 9,
   "metadata": {},
   "outputs": [
    {
     "name": "stdout",
     "output_type": "stream",
     "text": [
      "ry        글\n",
      "음식물 반입금지\n",
      "No eating or drinking\n",
      "\n",
      "\n"
     ]
    }
   ],
   "source": [
    "img = cv2.imread(\"../images/alert.jpg\", cv2.IMREAD_GRAYSCALE)\n",
    "#ret, binary = cv2.threshold(img, -1, 255, cv2.THRESH_BINARY | cv2.THRESH_OTSU)\n",
    "\n",
    "text1 = pyt.image_to_string(img, lang=\"kor+eng\")\n",
    "#text2 = pyt.image_to_string(binary, lang=\"kor+eng\")\n",
    "\n",
    "print(text1)\n",
    "#print(text2)\n",
    "\n",
    "#cv2.imshow(\"img\", img)\n",
    "#cv2.waitKey(0)\n",
    "#cv2.destroyAllWindows()"
   ]
  },
  {
   "cell_type": "code",
   "execution_count": 10,
   "metadata": {},
   "outputs": [
    {
     "name": "stdout",
     "output_type": "stream",
     "text": [
      "여스즈\n",
      "OTS\n",
      "\n",
      "영수즘번호:230522-0103-0142-01\n",
      "상호:메이크커피\n",
      "220-09-33826 16.)010-4288-9949 몽진명\n",
      "주소:서물특별시 강남구 강남대로94길 27 (역삼동)\n",
      "\n",
      "1증\n",
      "\n",
      "테이블번호: KIOSK           주문담당자:관리자\n",
      "\n",
      "계산일자:2023-05-22             시간:13:45:06\n",
      "\n",
      "=ae 말인 at\n",
      "\n",
      "아메리카노                      3                  4, 200\n",
      ">> ICE                        3                     0\n",
      "\n",
      "[카 S 번 호] 3565160400“634*\n",
      "[할 부 개 월] 0\n",
      "\n",
      "[카 드 At 명] NHS\n",
      "\n",
      "[승 인 번 호] 51423660\n",
      "\n",
      "[결 제 금 액] 4,200\n",
      "\n",
      "\n"
     ]
    }
   ],
   "source": [
    "img = cv2.imread(\"../images/bill.png\", cv2.IMREAD_GRAYSCALE)\n",
    "\n",
    "text1 = pyt.image_to_string(img, lang=\"kor+eng\")\n",
    "\n",
    "print(text1)"
   ]
  },
  {
   "cell_type": "code",
   "execution_count": 11,
   "metadata": {},
   "outputs": [
    {
     "name": "stdout",
     "output_type": "stream",
     "text": [
      "112374568|\n",
      "\n",
      "\n"
     ]
    }
   ],
   "source": [
    "img = cv2.imread(\"../images/car_number.png\", cv2.IMREAD_GRAYSCALE)\n",
    "\n",
    "text1 = pyt.image_to_string(img, lang=\"kor\")\n",
    "\n",
    "print(text1)"
   ]
  },
  {
   "cell_type": "markdown",
   "metadata": {},
   "source": [
    "### 실습4 - 이미지에서 글자 인식\n",
    "- 글자가 인식이 안되는 이미지가 있다\n",
    "- 그래서 글자를 인식할 부분을 선택하고\n",
    "- 해당 영역을 잘래내서\n",
    "- 잘라낸 영역의 글자를 인식해서 출력합니다"
   ]
  },
  {
   "cell_type": "code",
   "execution_count": 24,
   "metadata": {},
   "outputs": [
    {
     "name": "stdout",
     "output_type": "stream",
     "text": [
      "정지\n",
      "STOP\n",
      "\n"
     ]
    }
   ],
   "source": [
    "def show_result():\n",
    "  result = img[point_list[0][1]:point_list[2][1],\n",
    "               point_list[0][0]:point_list[2][0]]\n",
    "  cv2.imshow(\"result\", result)\n",
    "  text = pyt.image_to_string(result, lang=\"kor+eng\")\n",
    "  print(text)\n",
    "\n",
    "drawing = False\n",
    "def onMouse(event, x, y, flags, _):\n",
    "  copied = img.copy()\n",
    "  global drawing\n",
    "  if event == cv2.EVENT_LBUTTONDOWN:\n",
    "    drawing = True\n",
    "    point_list.append((x,y))\n",
    "  \n",
    "  if drawing:\n",
    "    prev_point = None\n",
    "    for point in point_list:\n",
    "      cv2.circle(copied, point, 5, (255, 255, 255), cv2.FILLED)\n",
    "      if prev_point:\n",
    "        cv2.line(copied, prev_point, point, (255, 255, 255), 5)\n",
    "      prev_point = point\n",
    "      \n",
    "    next_point = (x,y)\n",
    "    cv2.line(copied, prev_point, next_point, (255, 255, 255), 5)\n",
    "\n",
    "    if len(point_list) == 4:\n",
    "      next_point = point_list[0]\n",
    "      cv2.line(copied, point_list[-1], next_point, (255, 255, 255), 5)\n",
    "      show_result()\n",
    "      drawing = False\n",
    "  \n",
    "  cv2.imshow(name, copied)\n",
    "\n",
    "img = cv2.imread(\"../images/stop.png\", cv2.IMREAD_GRAYSCALE)\n",
    "point_list = []\n",
    "\n",
    "name = \"Scanner\"\n",
    "cv2.namedWindow(name)\n",
    "cv2.setMouseCallback(name, onMouse)\n",
    "cv2.waitKey(0)\n",
    "cv2.destroyAllWindows()"
   ]
  },
  {
   "cell_type": "code",
   "execution_count": null,
   "metadata": {},
   "outputs": [],
   "source": []
  }
 ],
 "metadata": {
  "kernelspec": {
   "display_name": "my_cv",
   "language": "python",
   "name": "python3"
  },
  "language_info": {
   "codemirror_mode": {
    "name": "ipython",
    "version": 3
   },
   "file_extension": ".py",
   "mimetype": "text/x-python",
   "name": "python",
   "nbconvert_exporter": "python",
   "pygments_lexer": "ipython3",
   "version": "3.12.3"
  }
 },
 "nbformat": 4,
 "nbformat_minor": 2
}
