{
 "cells": [
  {
   "cell_type": "markdown",
   "metadata": {},
   "source": [
    "### 텍스트"
   ]
  },
  {
   "cell_type": "code",
   "execution_count": 1,
   "metadata": {},
   "outputs": [],
   "source": [
    "import cv2\n",
    "import numpy as np"
   ]
  },
  {
   "cell_type": "code",
   "execution_count": 6,
   "metadata": {},
   "outputs": [],
   "source": [
    "img = np.zeros((460, 640, 3), dtype = np.uint8)\n",
    "\n",
    "SCALE = 1\n",
    "COLOR = (255, 255, 255)\n",
    "THICKNESS = 2\n",
    "\n",
    "cv2.putText(img, \"Hello world\", (100,100), cv2.FONT_HERSHEY_COMPLEX, SCALE, COLOR, THICKNESS)\n",
    "cv2.putText(img, \"Hello world\", (100,200), cv2.FONT_HERSHEY_DUPLEX, SCALE, COLOR, THICKNESS)\n",
    "cv2.putText(img, \"Hello world\", (100,300), cv2.FONT_HERSHEY_TRIPLEX | cv2.FONT_ITALIC, SCALE, COLOR, THICKNESS) # | 로 나누고 italic 요소도 추가\n",
    "\n",
    "cv2.imshow(\"Text\", img)\n",
    "cv2.waitKey(0)\n",
    "cv2.destroyAllWindows()"
   ]
  },
  {
   "cell_type": "markdown",
   "metadata": {},
   "source": [
    "### 4-2. 한글 텍스트 입력"
   ]
  },
  {
   "cell_type": "code",
   "execution_count": 7,
   "metadata": {},
   "outputs": [
    {
     "name": "stdout",
     "output_type": "stream",
     "text": [
      "Collecting pillow\n",
      "  Downloading pillow-11.1.0-cp312-cp312-win_amd64.whl.metadata (9.3 kB)\n",
      "Downloading pillow-11.1.0-cp312-cp312-win_amd64.whl (2.6 MB)\n",
      "   ---------------------------------------- 0.0/2.6 MB ? eta -:--:--\n",
      "   ---------------------------------------- 0.0/2.6 MB 660.6 kB/s eta 0:00:04\n",
      "   -- ------------------------------------- 0.2/2.6 MB 2.4 MB/s eta 0:00:02\n",
      "   -------- ------------------------------- 0.6/2.6 MB 4.5 MB/s eta 0:00:01\n",
      "   ---------- ----------------------------- 0.7/2.6 MB 4.5 MB/s eta 0:00:01\n",
      "   ------------- -------------------------- 0.9/2.6 MB 3.9 MB/s eta 0:00:01\n",
      "   ------------------ --------------------- 1.2/2.6 MB 4.5 MB/s eta 0:00:01\n",
      "   ---------------------------------- ----- 2.3/2.6 MB 7.2 MB/s eta 0:00:01\n",
      "   ---------------------------------------- 2.6/2.6 MB 8.0 MB/s eta 0:00:00\n",
      "Installing collected packages: pillow\n",
      "Successfully installed pillow-11.1.0\n"
     ]
    },
    {
     "name": "stderr",
     "output_type": "stream",
     "text": [
      "\n",
      "[notice] A new release of pip is available: 24.0 -> 24.3.1\n",
      "[notice] To update, run: python.exe -m pip install --upgrade pip\n"
     ]
    }
   ],
   "source": [
    "!pip install pillow"
   ]
  },
  {
   "cell_type": "code",
   "execution_count": 8,
   "metadata": {},
   "outputs": [],
   "source": [
    "# 이런것도 있구나\n",
    "from PIL import Image, ImageDraw, ImageFont # 한글을 그리는 느낌\n",
    "\n",
    "img = np.zeros((460, 640, 4), dtype = np.uint8)\n",
    "\n",
    "def putKorText(img, text, pos, font_size, font_color) : # 우회적인 방법으로 한글 입력\n",
    "    img_pil = Image.fromarray(img)\n",
    "    draw = ImageDraw.Draw(img_pil)\n",
    "    font = ImageFont.truetype(\"fonts/gulim.ttc\", font_size)\n",
    "    draw.text(pos, text, font=font, fill=font_color)\n",
    "\n",
    "    return np.array(img_pil)"
   ]
  },
  {
   "cell_type": "code",
   "execution_count": 10,
   "metadata": {},
   "outputs": [],
   "source": [
    "text = putKorText(img, \"스펙 7기 화이팅\", (100, 100), 30, (255, 255, 255))\n",
    "\n",
    "cv2.imshow(\"Korean text\", text)\n",
    "cv2.waitKey(0)\n",
    "cv2.destroyAllWindows()"
   ]
  }
 ],
 "metadata": {
  "kernelspec": {
   "display_name": "my_cv",
   "language": "python",
   "name": "python3"
  },
  "language_info": {
   "codemirror_mode": {
    "name": "ipython",
    "version": 3
   },
   "file_extension": ".py",
   "mimetype": "text/x-python",
   "name": "python",
   "nbconvert_exporter": "python",
   "pygments_lexer": "ipython3",
   "version": "3.12.3"
  }
 },
 "nbformat": 4,
 "nbformat_minor": 2
}
