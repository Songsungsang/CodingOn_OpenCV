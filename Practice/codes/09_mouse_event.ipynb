{
 "cells": [
  {
   "cell_type": "markdown",
   "metadata": {},
   "source": [
    "## 마우스 이벤트"
   ]
  },
  {
   "cell_type": "code",
   "execution_count": 9,
   "metadata": {},
   "outputs": [],
   "source": [
    "import cv2\n",
    "\n",
    "def on_mouse(event, x, y, flags, _) : # 이벤트마다\n",
    "    #print(event) # 이벤트가 출력\n",
    "    if event == cv2.EVENT_LBUTTONDOWN: # 만약에 이벤트가 마우스 왼쪽버튼 클릭이면\n",
    "        #print(\"마우스 클릭!\")\n",
    "        copied = img.copy() # 이미지 deep copy. 새로운 복사본\n",
    "        cv2.circle(copied, (x,y), 3, (255, 255, 0), cv2.FILLED) # 마우스의 x,y 좌표를 기점으로 원 그리기\n",
    "        cv2.imshow(name, copied) # 원을 그린다음에 화면을 다시 그려줘야함\n",
    "# 깊은 복사를 사용시 클릭마다 이미지를 원본에서 새로 만든 이미지를 만들고 점을 찍음. 가장 최근 점들만 보여줌\n",
    "\n",
    "img = cv2.imread(\"../images/parrot.jpg\")\n",
    "\n",
    "name = \"Mouse event\"\n",
    "cv2.namedWindow(name)\n",
    "cv2.setMouseCallback(name, on_mouse) # 마우스 이동, 클릭, 휠 등 모든 행동에 값이 매겨져 있음\n",
    "cv2.imshow(name, img)\n",
    "cv2.waitKey(0)\n",
    "cv2.destroyAllWindows()"
   ]
  }
 ],
 "metadata": {
  "kernelspec": {
   "display_name": "my_cv",
   "language": "python",
   "name": "python3"
  },
  "language_info": {
   "codemirror_mode": {
    "name": "ipython",
    "version": 3
   },
   "file_extension": ".py",
   "mimetype": "text/x-python",
   "name": "python",
   "nbconvert_exporter": "python",
   "pygments_lexer": "ipython3",
   "version": "3.12.3"
  }
 },
 "nbformat": 4,
 "nbformat_minor": 2
}
