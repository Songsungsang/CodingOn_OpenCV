{
 "cells": [
  {
   "cell_type": "markdown",
   "metadata": {},
   "source": [
    "## 13. 얼굴 인식"
   ]
  },
  {
   "cell_type": "code",
   "execution_count": 37,
   "metadata": {},
   "outputs": [],
   "source": [
    "import cv2\n",
    "\n",
    "HWANG = \"../images/hwang.jpg\"\n",
    "QUEEN = \"../images/queen.jpg\"\n",
    "BEATLES = \"../images/beatles.jpg\"\n",
    "SANDVICH = \"../images/sandvich.jpg\"\n",
    "\n",
    "face_cascade = cv2.CascadeClassifier(\"../cascade/haarcascade_frontalface_default.xml\")\n",
    "eye_cascade = cv2.CascadeClassifier(\"../cascade/haarcascade_eye.xml\")"
   ]
  },
  {
   "cell_type": "code",
   "execution_count": 42,
   "metadata": {},
   "outputs": [],
   "source": [
    "img = cv2.imread(HWANG)\n",
    "\n",
    "gray = cv2.cvtColor(img, cv2.COLOR_BGR2GRAY) # 색의 밝기로 검출하므로 gray\n",
    "\n",
    "#scaleFactor - 1.1에 가까울 수록 더 얼굴 정확하게, minNeighbors - 최소 몇개는 얼굴로 잡혀야 얼굴로 인식\n",
    "faces = face_cascade.detectMultiScale(gray, scaleFactor=1.1, minNeighbors=8, minSize=(10,10))\n",
    "eyes = eye_cascade.detectMultiScale(gray, scaleFactor=1.1, minNeighbors=2, maxSize=(40,40))\n",
    "\n",
    "if len(faces) :\n",
    "    for face in faces :\n",
    "        x, y, width, height = face\n",
    "        cv2.rectangle(img, (x,y), (x+width, y+height), (0,255,0), 4)\n",
    "\n",
    "if len(eyes) :\n",
    "    for eye in eyes :\n",
    "        x, y, width, height = eye\n",
    "        cv2.rectangle(img, (x,y), (x+width, y+height), (255,255, 0), 3)\n",
    "\n",
    "cv2.imshow(\"img\", img)\n",
    "cv2.waitKey(0)\n",
    "cv2.destroyAllWindows()"
   ]
  }
 ],
 "metadata": {
  "kernelspec": {
   "display_name": "my_cv",
   "language": "python",
   "name": "python3"
  },
  "language_info": {
   "codemirror_mode": {
    "name": "ipython",
    "version": 3
   },
   "file_extension": ".py",
   "mimetype": "text/x-python",
   "name": "python",
   "nbconvert_exporter": "python",
   "pygments_lexer": "ipython3",
   "version": "3.12.3"
  }
 },
 "nbformat": 4,
 "nbformat_minor": 2
}
