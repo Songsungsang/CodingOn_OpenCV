{
 "cells": [
  {
   "cell_type": "code",
   "execution_count": 1,
   "metadata": {},
   "outputs": [],
   "source": [
    "import cv2"
   ]
  },
  {
   "cell_type": "code",
   "execution_count": 2,
   "metadata": {},
   "outputs": [],
   "source": [
    "# 윤곽선 그리기\n",
    "\n",
    "img = cv2.imread(\"../images/parrot.jpg\")\n",
    "copied = img.copy()\n",
    "gray = cv2.cvtColor(copied, cv2.COLOR_BGR2GRAY)\n",
    "_, binary = cv2.threshold(gray, -1, 255, cv2.THRESH_BINARY | cv2.THRESH_OTSU)\n",
    "contours, hierachy = cv2.findContours(binary, cv2.RETR_LIST, cv2.CHAIN_APPROX_NONE)\n",
    "cv2.drawContours(copied, contours, -1, (0, 255, 0), 2)\n",
    "\n",
    "cv2.imshow(\"img\", img)\n",
    "cv2.imshow(\"contours\", copied)\n",
    "cv2.waitKey(0)\n",
    "cv2.destroyAllWindows()"
   ]
  },
  {
   "cell_type": "code",
   "execution_count": 3,
   "metadata": {},
   "outputs": [],
   "source": [
    "# 윤곽선 기준으로 박스 그리기\n",
    "\n",
    "img = cv2.imread(\"../images/parrot.jpg\")\n",
    "copied = img.copy()\n",
    "gray = cv2.cvtColor(copied, cv2.COLOR_BGR2GRAY)\n",
    "_, binary = cv2.threshold(gray, -1, 255, cv2.THRESH_BINARY | cv2.THRESH_OTSU)\n",
    "contours, hierachy = cv2.findContours(binary, cv2.RETR_LIST, cv2.CHAIN_APPROX_NONE)\n",
    "#cv2.drawContours(copied, contours, -1, (0, 255, 0), 2)\n",
    "\n",
    "for contour in contours:\n",
    "    if cv2.contourArea(contour) > 690 :\n",
    "        x, y, w, h = cv2.boundingRect(contour)\n",
    "        cv2.rectangle(copied, (x,y), (x+w,y+h), (0,255,0), 2)\n",
    "\n",
    "cv2.imshow(\"img\", img)\n",
    "cv2.imshow(\"contours\", copied)\n",
    "cv2.waitKey(0)\n",
    "cv2.destroyAllWindows()"
   ]
  },
  {
   "cell_type": "code",
   "execution_count": 4,
   "metadata": {},
   "outputs": [],
   "source": [
    "#얼굴 인식\n",
    "\n",
    "face_cascade = cv2.CascadeClassifier(\"../cascade/haarcascade_frontalface_default.xml\")\n",
    "img = cv2.imread(\"../images/sandvich.jpg\")\n",
    "\n",
    "faces = face_cascade.detectMultiScale(img, scaleFactor=1.1, minNeighbors=5, minSize=(20,20), maxSize=(200,200))\n",
    "\n",
    "if len(faces):\n",
    "    for x, y, w, h in faces:\n",
    "        cv2.rectangle(img, (x,y), (x+w,y+h), (0, 255, 0), 4)\n",
    "\n",
    "cv2.imshow(\"img\", img)\n",
    "\n",
    "cv2.waitKey(0)\n",
    "cv2.destroyAllWindows()"
   ]
  },
  {
   "cell_type": "code",
   "execution_count": 19,
   "metadata": {},
   "outputs": [],
   "source": [
    "#영상에서 얼굴 인식\n",
    "\n",
    "face_cascade = cv2.CascadeClassifier(\"../cascade/haarcascade_frontalface_default.xml\")\n",
    "cap = cv2.VideoCapture(\"../videos/three_idiots.gif\")\n",
    "fps = cap.get(cv2.CAP_PROP_FPS)\n",
    " \n",
    "while cap.isOpened() : # 영상 내용이 있는 동안\n",
    "    ret, frame = cap.read()\n",
    "\n",
    "    if not ret :\n",
    "        break\n",
    "    \n",
    "    faces = face_cascade.detectMultiScale(frame, scaleFactor=1.1, minNeighbors=3, minSize=(20,20), maxSize=(200,200)) # 각 프레임에 대하여 안면인식\n",
    "\n",
    "    if len(faces) :\n",
    "        for x, y, w, h in faces:\n",
    "            cv2.rectangle(frame, (x,y), (x+w,y+h), (0, 255, 0), 4)\n",
    "\n",
    "    cv2.imshow(\"video\", frame) # 프레임 지속적으로 출력\n",
    "\n",
    "    if cv2.waitKey(int(1000/fps)) == ord(\"q\") : \n",
    "        break\n",
    "\n",
    "cv2.destroyAllWindows()"
   ]
  }
 ],
 "metadata": {
  "kernelspec": {
   "display_name": "my_cv",
   "language": "python",
   "name": "python3"
  },
  "language_info": {
   "codemirror_mode": {
    "name": "ipython",
    "version": 3
   },
   "file_extension": ".py",
   "mimetype": "text/x-python",
   "name": "python",
   "nbconvert_exporter": "python",
   "pygments_lexer": "ipython3",
   "version": "3.12.3"
  }
 },
 "nbformat": 4,
 "nbformat_minor": 2
}
