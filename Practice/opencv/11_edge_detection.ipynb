{
 "cells": [
  {
   "cell_type": "markdown",
   "metadata": {},
   "source": [
    "### 11. 경계선 검출(Canny Edge Detection)\n",
    "- 약한 임계값과 강한 임계값을 사용해 경계선을 검출\n",
    "- 그레이스케일 적용 -> 블러로 노이즈 제거 -> Canny 적용"
   ]
  },
  {
   "cell_type": "code",
   "execution_count": 16,
   "metadata": {},
   "outputs": [],
   "source": [
    "import cv2\n",
    "\n",
    "MOUNTAIN = \"../images/mountain.jpg\"\n",
    "KELSY = \"../videos/kelsy.gif\"\n",
    "PARROT = \"../videos/parrot.mp4\""
   ]
  },
  {
   "cell_type": "code",
   "execution_count": 2,
   "metadata": {},
   "outputs": [],
   "source": [
    "img = cv2.imread(MOUNTAIN, cv2.IMREAD_GRAYSCALE)\n",
    "canny = cv2.Canny(img, 50, 150)\n",
    "\n",
    "cv2.imshow(\"img\", img)\n",
    "cv2.imshow(\"Canny\", canny)\n",
    "cv2.waitKey(0)\n",
    "cv2.destroyAllWindows()"
   ]
  },
  {
   "cell_type": "markdown",
   "metadata": {},
   "source": [
    "### 트랙바 적용"
   ]
  },
  {
   "cell_type": "code",
   "execution_count": 5,
   "metadata": {},
   "outputs": [],
   "source": [
    "img = cv2.imread(MOUNTAIN, cv2.IMREAD_GRAYSCALE)\n",
    "\n",
    "name = \"Canny\"\n",
    "cv2.namedWindow(name)\n",
    "\n",
    "cv2.createTrackbar(\"Threshold1\", name, 50, 255, lambda x:x)\n",
    "cv2.createTrackbar(\"Threshold2\", name, 150, 255, lambda x:x)\n",
    "\n",
    "while True:\n",
    "    threshold1 = cv2.getTrackbarPos(\"Threshold1\", name)\n",
    "    threshold2 = cv2.getTrackbarPos(\"Threshold2\", name)\n",
    "\n",
    "    canny = cv2.Canny(img, threshold1, threshold2)\n",
    "    cv2.imshow(\"Canny\", canny)\n",
    "\n",
    "    if cv2.waitKey(1) == ord(\"q\"):\n",
    "        break\n",
    "\n",
    "cv2.destroyAllWindows()"
   ]
  },
  {
   "cell_type": "markdown",
   "metadata": {},
   "source": [
    "### 실습 - 캠 화면에 검출"
   ]
  },
  {
   "cell_type": "code",
   "execution_count": 14,
   "metadata": {},
   "outputs": [],
   "source": [
    "cap = cv2.VideoCapture(0)\n",
    "\n",
    "name = \"Canny\"\n",
    "cv2.namedWindow(name)\n",
    "\n",
    "cv2.createTrackbar(\"Threshold1\", name, 50, 255, lambda x:x)\n",
    "cv2.createTrackbar(\"Threshold2\", name, 150, 255, lambda x:x)\n",
    "\n",
    "if not cap.isOpened() :\n",
    "    exit()\n",
    "\n",
    "while True :\n",
    "    ret, frame = cap.read()\n",
    "\n",
    "    if not ret :\n",
    "        break\n",
    "\n",
    "    threshold1 = cv2.getTrackbarPos(\"Threshold1\", name)\n",
    "    threshold2 = cv2.getTrackbarPos(\"Threshold2\", name)\n",
    "\n",
    "    canny = cv2.Canny(frame, threshold1, threshold2) # canny에 절대로 cap을 넣지 말고 frame을 넣도록 유의. 사진을 넣어야지 돌아감\n",
    "    cv2.imshow(\"Canny\", canny)\n",
    "\n",
    "    if cv2.waitKey(1) == ord(\"q\") :\n",
    "        break\n",
    "\n",
    "cap.release()\n",
    "cv2.destroyAllWindows()"
   ]
  },
  {
   "cell_type": "code",
   "execution_count": 17,
   "metadata": {},
   "outputs": [],
   "source": [
    "cap = cv2.VideoCapture(PARROT)\n",
    "fourcc = cv2.VideoWriter_fourcc(*\"DIVX\")\n",
    "fps = cap.get(cv2.CAP_PROP_FPS)\n",
    "width = round(cap.get(cv2.CAP_PROP_FRAME_WIDTH)) # 가로와 세로가 정수값을 가져야 하므로 반올림 함\n",
    "height = round(cap.get(cv2.CAP_PROP_FRAME_HEIGHT))\n",
    "out = cv2.VideoWriter(\"../output/parrot.mp4\", fourcc, fps, (width, height)) # 비디오 쓰기를 위해 필요 정보 입력. fourcc - 영상 인코딩 방식\n",
    "\n",
    "name = \"Canny\"\n",
    "cv2.namedWindow(name)\n",
    "\n",
    "cv2.createTrackbar(\"Threshold1\", name, 50, 255, lambda x:x)\n",
    "cv2.createTrackbar(\"Threshold2\", name, 150, 255, lambda x:x)\n",
    "\n",
    "while cap.isOpened() :\n",
    "    ret, frame = cap.read()\n",
    "\n",
    "    if not ret : \n",
    "        break\n",
    "    \n",
    "    threshold1 = cv2.getTrackbarPos(\"Threshold1\", name)\n",
    "    threshold2 = cv2.getTrackbarPos(\"Threshold2\", name)\n",
    "\n",
    "    canny = cv2.Canny(frame, threshold1, threshold2) # canny에 절대로 cap을 넣지 말고 frame을 넣도록 유의. 사진을 넣어야지 돌아감\n",
    "    \n",
    "    cv2.imshow(\"Canny\", canny)\n",
    "    out.write(canny)\n",
    "\n",
    "    if cv2.waitKey(int(1000/fps)) == ord(\"q\") : \n",
    "        break\n",
    "\n",
    "out.release()\n",
    "cap.release()\n",
    "cv2.destroyAllWindows()"
   ]
  }
 ],
 "metadata": {
  "kernelspec": {
   "display_name": "my_cv",
   "language": "python",
   "name": "python3"
  },
  "language_info": {
   "codemirror_mode": {
    "name": "ipython",
    "version": 3
   },
   "file_extension": ".py",
   "mimetype": "text/x-python",
   "name": "python",
   "nbconvert_exporter": "python",
   "pygments_lexer": "ipython3",
   "version": "3.12.3"
  }
 },
 "nbformat": 4,
 "nbformat_minor": 2
}
