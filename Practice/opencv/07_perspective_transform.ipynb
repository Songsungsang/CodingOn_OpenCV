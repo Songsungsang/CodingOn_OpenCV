{
 "cells": [
  {
   "cell_type": "markdown",
   "metadata": {},
   "source": [
    "## 07. 원근변환"
   ]
  },
  {
   "cell_type": "code",
   "execution_count": 2,
   "metadata": {},
   "outputs": [],
   "source": [
    "import cv2\n",
    "import numpy as np\n",
    "CARD = \"../images/card.jpg\""
   ]
  },
  {
   "cell_type": "code",
   "execution_count": 4,
   "metadata": {},
   "outputs": [
    {
     "name": "stdout",
     "output_type": "stream",
     "text": [
      "[[ 6.28270120e-01 -1.85565014e-01  1.45058823e+01]\n",
      " [ 1.20997970e-01  8.43346752e-01 -2.26647393e+02]\n",
      " [-2.25609902e-05  2.65181603e-04  1.00000000e+00]]\n"
     ]
    }
   ],
   "source": [
    "img = cv2.imread(CARD)\n",
    "\n",
    "# 카드를 변행해서 맞출 틀의 크기\n",
    "width, height = 600, 350 # 사이즈 얼마든지 변경 가능\n",
    "# 변형할 지점 선택 : 시계방향\n",
    "src = np.array([[54, 261], [981, 128], [1213, 560], [194, 735]], dtype=np.float32) # 원본에서 변형하기 싶은 파트의 4개 좌표점\n",
    "\n",
    "# 결과물 출력할 형태 : 시계방향\n",
    "dst = np.array([[0, 0], [width, 0], [width, height], [0, height]], dtype=np.float32) # 0,0 가로, 가로세로, 세로. src의 점들에 맞추어서 좌표 찍어야 함\n",
    "\n",
    "#원근을 변형하기 위한 matrix생성\n",
    "mat = cv2.getPerspectiveTransform(src, dst)\n",
    "print(mat)\n",
    "\n",
    "# img를 mat에 의해 변환\n",
    "result = cv2.warpPerspective(img, mat, (width, height)) \n",
    "\n",
    "cv2.imshow(\"img\", img)\n",
    "cv2.imshow(\"perspective\", result)\n",
    "\n",
    "cv2.waitKey(0)\n",
    "cv2.destroyAllWindows()"
   ]
  },
  {
   "cell_type": "markdown",
   "metadata": {},
   "source": [
    "## 실습1 이미지 원근 변환하기\n",
    "- 기울어진 이미지 다운로드\n",
    "- 학습한 원근 변환 방법을 바탕으로 이미지 펼쳐보기"
   ]
  },
  {
   "cell_type": "code",
   "execution_count": 7,
   "metadata": {},
   "outputs": [],
   "source": [
    "img = cv2.imread(\"../images/squidward.jpg\")\n",
    "\n",
    "width, height = 400, 200\n",
    "src = np.array([[15, 92], [213, 16], [309, 104], [149, 170]], dtype=np.float32)\n",
    "dst = np.array([[0, 0], [width, 0], [width, height], [0, height]], dtype=np.float32)\n",
    "\n",
    "mat = cv2.getPerspectiveTransform(src, dst)\n",
    "result = cv2.warpPerspective(img, mat, (width, height))\n",
    "\n",
    "cv2.imshow(\"img\", img)\n",
    "cv2.imshow(\"perspective\", result)\n",
    "\n",
    "cv2.waitKey(0)\n",
    "cv2.destroyAllWindows()"
   ]
  }
 ],
 "metadata": {
  "kernelspec": {
   "display_name": "my_cv",
   "language": "python",
   "name": "python3"
  },
  "language_info": {
   "codemirror_mode": {
    "name": "ipython",
    "version": 3
   },
   "file_extension": ".py",
   "mimetype": "text/x-python",
   "name": "python",
   "nbconvert_exporter": "python",
   "pygments_lexer": "ipython3",
   "version": "3.12.3"
  }
 },
 "nbformat": 4,
 "nbformat_minor": 2
}
