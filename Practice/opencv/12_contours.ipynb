{
 "cells": [
  {
   "cell_type": "markdown",
   "metadata": {},
   "source": [
    "## 12. 윤곽선 검출\n",
    "- 경계선을 연결한 선\n",
    "- 흑백 이미지 -> 이진화 -> 윤곽선 찾기(findContours) -> 윤곽선 그리기(drawContours)"
   ]
  },
  {
   "cell_type": "code",
   "execution_count": 1,
   "metadata": {},
   "outputs": [],
   "source": [
    "import cv2\n",
    "\n",
    "PARROT = \"../images/parrot.jpg\"\n",
    "DRAGON = \"../images/dragon.png\""
   ]
  },
  {
   "cell_type": "markdown",
   "metadata": {},
   "source": [
    "### 12-1. 기본 윤곽선 그리기"
   ]
  },
  {
   "cell_type": "code",
   "execution_count": 4,
   "metadata": {},
   "outputs": [],
   "source": [
    "img = cv2.imread(PARROT) # 그레이스케일 적용안한 원본\n",
    "copied = img.copy()\n",
    "\n",
    "#그레이 스케일로 변환\n",
    "gray = cv2.cvtColor(copied, cv2.COLOR_BGR2GRAY) # convert color, color from BGR to Gray\n",
    "#이진화\n",
    "ret, binary = cv2.threshold(gray, -1, 255, cv2.THRESH_BINARY | cv2.THRESH_OTSU)\n",
    "\n",
    "#윤곽선 찾기\n",
    "contours, hierachy = cv2.findContours(binary, cv2.RETR_LIST, cv2.CHAIN_APPROX_NONE) # 윤곽선과 계층구조\n",
    "\n",
    "#윤곽선 그리기\n",
    "cv2.drawContours(copied, contours, -1, (0, 255, 0), 1)\n",
    "\n",
    "cv2.imshow(\"img\", img)\n",
    "cv2.imshow(\"contours\", copied)\n",
    "\n",
    "cv2.waitKey(0)\n",
    "cv2.destroyAllWindows()"
   ]
  },
  {
   "cell_type": "code",
   "execution_count": 8,
   "metadata": {},
   "outputs": [],
   "source": [
    "#막간실습#1\n",
    "#원하는 이미지에 윤곽선 그리기\n",
    "#LIST방식, EXTERNAL방식으로 각각 그려서 출력해보기\n",
    "\n",
    "img = cv2.imread(PARROT)\n",
    "copied1 = img.copy()\n",
    "copied2 = img.copy()\n",
    "\n",
    "gray = cv2.cvtColor(copied, cv2.COLOR_BGR2GRAY)\n",
    "\n",
    "ret, binary = cv2.threshold(gray, -1, 255, cv2.THRESH_BINARY | cv2.THRESH_OTSU)\n",
    "\n",
    "contours_list, hierachy = cv2.findContours(binary, cv2.RETR_LIST, cv2.CHAIN_APPROX_NONE)\n",
    "contours_external, hierachy = cv2.findContours(binary, cv2.RETR_EXTERNAL, cv2.CHAIN_APPROX_NONE)\n",
    "\n",
    "cv2.drawContours(copied1, contours_list, -1, (255, 255, 0), 1)\n",
    "cv2.drawContours(copied2, contours_external, -1, (255, 255, 0), 1)\n",
    "\n",
    "cv2.imshow(\"contours_list\", copied1)\n",
    "cv2.imshow(\"contours_external\", copied2)\n",
    "\n",
    "cv2.waitKey(0)\n",
    "cv2.destroyAllWindows()"
   ]
  },
  {
   "cell_type": "markdown",
   "metadata": {},
   "source": [
    "### 12-2. Bounding React\n",
    "- 윤곽선을 둘러싼 사각형"
   ]
  },
  {
   "cell_type": "code",
   "execution_count": 10,
   "metadata": {},
   "outputs": [],
   "source": [
    "img = cv2.imread(PARROT) # 그레이스케일 적용안한 원본\n",
    "copied = img.copy()\n",
    "\n",
    "gray = cv2.cvtColor(copied, cv2.COLOR_BGR2GRAY) # convert color, color from BGR to Gray\n",
    "ret, binary = cv2.threshold(gray, -1, 255, cv2.THRESH_BINARY | cv2.THRESH_OTSU)\n",
    "\n",
    "contours, hierachy = cv2.findContours(binary, cv2.RETR_EXTERNAL, cv2.CHAIN_APPROX_NONE) # 윤곽선과 계층구조\n",
    "\n",
    "#각각의 윤곽선에 대한 사각형 그리기 for문\n",
    "for contour in contours:\n",
    "    x,y, width, height = cv2.boundingRect(contour) # 각 윤곽선으로부터 시작점과 가로세로 구함\n",
    "    cv2.rectangle(copied, (x,y), (x + width, y + height), (255, 255, 0), 2)\n",
    "    #cv2.drawContours(copied, contours, -1, (0, 255, 0), 1)\n",
    "\n",
    "cv2.imshow(\"img\", img)\n",
    "cv2.imshow(\"contours\", copied)\n",
    "\n",
    "cv2.waitKey(0)\n",
    "cv2.destroyAllWindows()"
   ]
  },
  {
   "cell_type": "markdown",
   "metadata": {},
   "source": [
    "### 실습3\n",
    "- 인덱스 트렉바를 만들고\n",
    "- 트렉바의 인덱스를 변경하면\n",
    "- 생성된 박스가 순서대로 화면에 띄워지도록 구현하기"
   ]
  },
  {
   "cell_type": "code",
   "execution_count": 7,
   "metadata": {},
   "outputs": [],
   "source": [
    "img = cv2.imread(\"../images/vehicles.png\")\n",
    "\n",
    "name = \"contour\"\n",
    "cv2.namedWindow(name)\n",
    "cv2.createTrackbar(\"index\", name, 0, 49, lambda x:x)\n",
    "\n",
    "gray = cv2.cvtColor(img, cv2.COLOR_BGR2GRAY)\n",
    "ret, binary = cv2.threshold(gray, -1, 255, cv2.THRESH_BINARY | cv2.THRESH_OTSU)\n",
    "\n",
    "contours, hierachy = cv2.findContours(binary, cv2.RETR_EXTERNAL, cv2.CHAIN_APPROX_SIMPLE)\n",
    "\n",
    "#각각의 윤곽선에 대한 사각형 그리기 for문\n",
    "while True:\n",
    "    copied = img.copy() # 매번 사진 새로 그리기\n",
    "    index = cv2.getTrackbarPos(\"index\", name)\n",
    "    x,y, width, height = cv2.boundingRect(contours[index]) # index 값을 기준으로 contours 에서 원하는 contour 찾기\n",
    "    cv2.rectangle(copied, (x,y), (x + width, y + height), (255, 255, 0), 2)\n",
    "\n",
    "    cv2.imshow(name, copied)\n",
    "\n",
    "    if cv2.waitKey(1) == ord(\"q\"):\n",
    "        break\n",
    "\n",
    "cv2.destroyAllWindows()"
   ]
  },
  {
   "cell_type": "code",
   "execution_count": null,
   "metadata": {},
   "outputs": [],
   "source": [
    "# Pseudo code\n",
    "#하고 싶은건\n",
    "#윤곽선을 찾고\n",
    "#윤곽선의 index를 선택해서\n",
    "#해당 인덱스의 bounding rect를 추출\n",
    "#화면에 사각형을 그린다"
   ]
  },
  {
   "cell_type": "code",
   "execution_count": null,
   "metadata": {},
   "outputs": [],
   "source": [
    "#그레이스케일 -> 이진화 -> findContours\n",
    "#은곽선의 인덱스를 선택해서 -> 트랙바 이용 -> while\n",
    "#해당 인덱스의 bounding rect를 추출 -> cv2.boundingRect\n",
    "#화면에 사격형을 그린다 -> cv2.rectangle"
   ]
  },
  {
   "cell_type": "markdown",
   "metadata": {},
   "source": [
    "### 12-3. contourArea\n",
    "- 윤곽선의 넓이를 가져온다"
   ]
  },
  {
   "cell_type": "code",
   "execution_count": 2,
   "metadata": {},
   "outputs": [],
   "source": [
    "# 특정 넓이 이상의 contour만 표시할 수 있도록\n",
    "img = cv2.imread(\"../images/vehicles.png\")\n",
    "\n",
    "name = \"contour\"\n",
    "cv2.namedWindow(name)\n",
    "\n",
    "gray = cv2.cvtColor(img, cv2.COLOR_BGR2GRAY)\n",
    "ret, binary = cv2.threshold(gray, -1, 255, cv2.THRESH_BINARY | cv2.THRESH_OTSU)\n",
    "\n",
    "contours, hierachy = cv2.findContours(binary, cv2.RETR_EXTERNAL, cv2.CHAIN_APPROX_SIMPLE)\n",
    "\n",
    "#넓이조건을 만족하는 contours list 새로 생성\n",
    "big_contours = []\n",
    "for contour in contours:\n",
    "    if cv2.contourArea(contour) > 690 :\n",
    "        big_contours.append(contour)\n",
    "\n",
    "#전체 contours 표시\n",
    "copybig = img.copy()\n",
    "for contour in big_contours:\n",
    "    x,y, width, height = cv2.boundingRect(contour) # 각 윤곽선으로부터 시작점과 가로세로 구함\n",
    "    cv2.rectangle(copybig, (x,y), (x + width, y + height), (255, 255, 0), 2)\n",
    "cv2.imshow(\"copybig\", copybig)\n",
    "\n",
    "cv2.createTrackbar(\"index\", name, 0, len(big_contours) - 1, lambda x:x) # 새로운 big_contours 기준으로 index 최대 결정\n",
    "#각각의 윤곽선에 대한 사각형 그리기 for문\n",
    "while True:\n",
    "    copied = img.copy() # 매번 사진 새로 그리기\n",
    "    index = cv2.getTrackbarPos(\"index\", name)\n",
    "    x,y, width, height = cv2.boundingRect(big_contours[index]) # index 값을 기준으로 contours 에서 원하는 contour 찾기\n",
    "    cv2.rectangle(copied, (x,y), (x + width, y + height), (255, 255, 0), 2)\n",
    "\n",
    "    cv2.imshow(name, copied)\n",
    "\n",
    "    if cv2.waitKey(1) == ord(\"q\"):\n",
    "        break\n",
    "\n",
    "cv2.destroyAllWindows()"
   ]
  },
  {
   "cell_type": "markdown",
   "metadata": {},
   "source": [
    "### 실습4. 카드 하나씩 새창에 표시\n",
    "- 제시된 이미지의 카드를\n",
    "- 하나씩 별도로 창에 표시하기"
   ]
  },
  {
   "cell_type": "code",
   "execution_count": 13,
   "metadata": {},
   "outputs": [],
   "source": [
    "img = cv2.imread(\"../images/playing_cards.png\")\n",
    "copied = img.copy()\n",
    "images = [\"Diamond\", \"Spade\", \"Clover\", \"Heart\"]\n",
    "\n",
    "gray = cv2.cvtColor(copied, cv2.COLOR_BGR2GRAY)\n",
    "ret, binary = cv2.threshold(gray, -1, 255, cv2.THRESH_BINARY | cv2.THRESH_OTSU)\n",
    "\n",
    "contours, hierachy = cv2.findContours(binary, cv2.RETR_EXTERNAL, cv2.CHAIN_APPROX_SIMPLE)\n",
    "#넓이조건을 만족하는 contours list 새로 생성\n",
    "big_contours = []\n",
    "for contour in contours:\n",
    "    if cv2.contourArea(contour) > 690 :\n",
    "        big_contours.append(contour)\n",
    "\n",
    "i = 0\n",
    "for contour in big_contours:\n",
    "    x, y, width, height = cv2.boundingRect(contour)\n",
    "    cv2.rectangle(copied, (x,y), (x + width, y + height), (255, 255, 0), 2)\n",
    "    card = img[y : y + height, x : x + width]\n",
    "    cv2.imshow(images[i], card)\n",
    "    i += 1\n",
    "\n",
    "\n",
    "cv2.imshow(\"contour\", copied)\n",
    "\n",
    "cv2.waitKey(0)\n",
    "cv2.destroyAllWindows()"
   ]
  },
  {
   "cell_type": "code",
   "execution_count": 10,
   "metadata": {},
   "outputs": [],
   "source": [
    "# 트랙바를 붙여 인덱스를 지정하고, 인덱스마다 그 카드를 보여주도록\n",
    "img = cv2.imread(\"../images/many_cards.png\")\n",
    "copied = img.copy()\n",
    "name = \"contour\"\n",
    "cv2.namedWindow(name)\n",
    "\n",
    "gray = cv2.cvtColor(copied, cv2.COLOR_BGR2GRAY)\n",
    "ret, binary = cv2.threshold(gray, -1, 255, cv2.THRESH_BINARY | cv2.THRESH_OTSU)\n",
    "contours, hierachy = cv2.findContours(binary, cv2.RETR_EXTERNAL, cv2.CHAIN_APPROX_SIMPLE)\n",
    "\n",
    "#넓이조건을 만족하는 contours list 새로 생성\n",
    "big_contours = []\n",
    "for contour in contours:\n",
    "    if cv2.contourArea(contour) > 690 :\n",
    "        big_contours.append(contour)\n",
    "\n",
    "# 사각형 범위들 표시\n",
    "for contour in big_contours:\n",
    "    x, y, width, height = cv2.boundingRect(contour)\n",
    "    cv2.rectangle(copied, (x,y), (x + width, y + height), (255, 255, 0), 2)\n",
    "cv2.imshow(\"contour\", copied)\n",
    "\n",
    "# 각 index마다 카드 표시\n",
    "cv2.createTrackbar(\"index\", name, 0, len(big_contours) - 1, lambda x:x)\n",
    "while True:\n",
    "    index = cv2.getTrackbarPos(\"index\", name)\n",
    "    x, y, width, height = cv2.boundingRect(big_contours[index])\n",
    "    card = img[y : y + height, x : x + width]\n",
    "    big_card = cv2.resize(card, None, fx = 4, fy = 4)\n",
    "    \n",
    "    cv2.imshow(\"card\", big_card)\n",
    "\n",
    "    if cv2.waitKey(1) == ord(\"q\"):\n",
    "        break\n",
    "\n",
    "cv2.destroyAllWindows()"
   ]
  }
 ],
 "metadata": {
  "kernelspec": {
   "display_name": "my_cv",
   "language": "python",
   "name": "python3"
  },
  "language_info": {
   "codemirror_mode": {
    "name": "ipython",
    "version": 3
   },
   "file_extension": ".py",
   "mimetype": "text/x-python",
   "name": "python",
   "nbconvert_exporter": "python",
   "pygments_lexer": "ipython3",
   "version": "3.12.3"
  }
 },
 "nbformat": 4,
 "nbformat_minor": 2
}
