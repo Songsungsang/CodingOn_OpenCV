{
 "cells": [
  {
   "cell_type": "markdown",
   "metadata": {},
   "source": [
    "## 03. 도형 그리기"
   ]
  },
  {
   "cell_type": "code",
   "execution_count": 2,
   "metadata": {},
   "outputs": [],
   "source": [
    "import cv2\n",
    "import numpy as np"
   ]
  },
  {
   "cell_type": "markdown",
   "metadata": {},
   "source": [
    "### 3-1. 빈화면 만들기"
   ]
  },
  {
   "cell_type": "code",
   "execution_count": null,
   "metadata": {},
   "outputs": [],
   "source": [
    "img = np.zeros((460, 640, 3), dtype = np.uint8) # uint? int는 음수가 포함됨. 2의8승 = 256\n",
    "# int = -128 ~ 127, uint8  = 0 ~ 255\n",
    "cv2.imshow(\"blank\", img)\n",
    "cv2.waitKey(0)\n",
    "cv2.destroyAllWindows()"
   ]
  },
  {
   "cell_type": "markdown",
   "metadata": {},
   "source": [
    "### 3-2. 일부 영역 색칠"
   ]
  },
  {
   "cell_type": "code",
   "execution_count": 4,
   "metadata": {},
   "outputs": [],
   "source": [
    "img = np.zeros((460, 640, 3), dtype = np.uint8)\n",
    "img[100:200, 100:200] = (166, 166, 166) # 가로 세로 영역 이만큼 이 색으로 사각형 채우기\n",
    "cv2.imshow(\"blank\", img)\n",
    "cv2.waitKey(0)\n",
    "cv2.destroyAllWindows()"
   ]
  },
  {
   "cell_type": "markdown",
   "metadata": {},
   "source": [
    "### 3-3. 선 그리기"
   ]
  },
  {
   "cell_type": "code",
   "execution_count": 7,
   "metadata": {},
   "outputs": [],
   "source": [
    "img = np.zeros((460, 640, 3), dtype = np.uint8)\n",
    "\n",
    "cv2.line(img, (50,100), (400, 50) , (255,0,0), 5, cv2.LINE_4) # 라인을 그릴 이미지, 시작점, 끝점, 시작, 두께, 라인 옵션\n",
    "cv2.line(img, (50,200), (400, 150) , (255,0,0), 5, cv2.LINE_8) # 라인을 그릴 이미지, 시작점, 끝점, 시작, 두께, 라인 옵션\n",
    "cv2.line(img, (50,300), (400, 250) , (255,0,0), 5, cv2.LINE_AA) # 라인을 그릴 이미지, 시작점, 끝점, 시작, 두께, 라인 옵션\n",
    "# AA가 가장 부드러운 선 생성\n",
    "\n",
    "cv2.imshow(\"Line\", img)\n",
    "cv2.waitKey(0)\n",
    "cv2.destroyAllWindows()"
   ]
  },
  {
   "cell_type": "markdown",
   "metadata": {},
   "source": [
    "### 3-4. 원그리기"
   ]
  },
  {
   "cell_type": "code",
   "execution_count": 10,
   "metadata": {},
   "outputs": [],
   "source": [
    "img = np.zeros((460, 640, 3), dtype = np.uint8)\n",
    "\n",
    "RADIUS = 50\n",
    "COLOR = (0, 255, 0)\n",
    "THICKNESS = 10\n",
    "\n",
    "# 속이 빈 원\n",
    "cv2.circle(img, (200, 230), RADIUS, COLOR, THICKNESS, cv2.LINE_AA)\n",
    "# 속이 꽉 찬 원\n",
    "cv2.circle(img, (400, 230), RADIUS, COLOR, cv2.FILLED, cv2.LINE_AA)\n",
    "\n",
    "\n",
    "cv2.imshow(\"Circle\", img)\n",
    "cv2.waitKey(0)\n",
    "cv2.destroyAllWindows()"
   ]
  },
  {
   "cell_type": "markdown",
   "metadata": {},
   "source": [
    "### 3-5. 타원 그리기"
   ]
  },
  {
   "cell_type": "code",
   "execution_count": 13,
   "metadata": {},
   "outputs": [],
   "source": [
    "img = np.zeros((460, 640, 3), dtype = np.uint8)\n",
    "\n",
    "cv2.ellipse(img, (300, 200), (100, 50), 45, 0, 270, (0, 0, 255), 5, cv2.LINE_AA)\n",
    "\n",
    "cv2.imshow(\"Ellipse\", img)\n",
    "cv2.waitKey(0)\n",
    "cv2.destroyAllWindows()"
   ]
  },
  {
   "cell_type": "markdown",
   "metadata": {},
   "source": [
    "### 3-6. 사각형 그리기"
   ]
  },
  {
   "cell_type": "code",
   "execution_count": 16,
   "metadata": {},
   "outputs": [],
   "source": [
    "img = np.zeros((460, 640, 3), dtype = np.uint8)\n",
    "\n",
    "cv2.rectangle(img, (50, 50), (250, 250), (255,255,0), 10, cv2.LINE_AA)# 왼쪽 끝, 오른쪽 끝\n",
    "\n",
    "cv2.rectangle(img, (260, 50), (460, 250), (255,255,0), cv2.FILLED, cv2.LINE_AA)# 왼쪽 끝, 오른쪽 끝\n",
    "\n",
    "cv2.imshow(\"Rectangle\", img)\n",
    "cv2.waitKey(0)\n",
    "cv2.destroyAllWindows()"
   ]
  },
  {
   "cell_type": "markdown",
   "metadata": {},
   "source": [
    "### 3-7. 다각형(선)"
   ]
  },
  {
   "cell_type": "code",
   "execution_count": null,
   "metadata": {},
   "outputs": [],
   "source": [
    "img = np.zeros((460, 640, 3), dtype = np.uint8)\n",
    "\n",
    "pts = np.array([[100,100], [200,100], [100, 200]]) # 3중으로 넣음\n",
    "\n",
    "cv2.polylines(img, [pts], True, (255, 0, 255), 5) # True - 모양을 닫을거냐 안 닫을거냐\n",
    "\n",
    "cv2.imshow(\"polylines\", img)\n",
    "cv2.waitKey(0)\n",
    "cv2.destroyAllWindows()"
   ]
  },
  {
   "cell_type": "markdown",
   "metadata": {},
   "source": [
    "### 3-8. 다각형(채우기)\n",
    "- 닫을 여부 x 선 두께 x"
   ]
  },
  {
   "cell_type": "code",
   "execution_count": 20,
   "metadata": {},
   "outputs": [],
   "source": [
    "img = np.zeros((460, 640, 3), dtype = np.uint8)\n",
    "\n",
    "pts = np.array([[100,100], [200,100], [100, 200]]) # 3중으로 넣음\n",
    "\n",
    "cv2.fillPoly(img, [pts], (255, 0, 255)) # True - 모양을 닫을거냐 안 닫을거냐\n",
    "\n",
    "cv2.imshow(\"polylines\", img)\n",
    "cv2.waitKey(0)\n",
    "cv2.destroyAllWindows()"
   ]
  },
  {
   "cell_type": "markdown",
   "metadata": {},
   "source": [
    "### 실습\n",
    "- 640 x 480 사이즈의 빈 화면에\n",
    "- 선, 원, 타원, 사각형, 다각형(선/채우기 각각) 화면에 그려보기\n",
    "- 도형의 색깔 각각 다르게 설정하기"
   ]
  },
  {
   "cell_type": "code",
   "execution_count": 51,
   "metadata": {},
   "outputs": [],
   "source": [
    "img = np.zeros((460, 640, 3), dtype = np.uint8)\n",
    "\n",
    "cv2.line(img, (100, 400), (300, 400), (255,255,255), 5, cv2.LINE_4)\n",
    "cv2.circle(img, (100, 100), 50, (255, 0, 0), 5, cv2.LINE_8)\n",
    "cv2.ellipse(img, (250, 100), (100, 50), 45, 0, 360, (0, 255, 0), 10, cv2.LINE_AA)\n",
    "cv2.rectangle(img, (400, 150), (600, 300), (0, 0, 255), 5, cv2.LINE_AA)\n",
    "\n",
    "pts1 = np.array([[100, 200], [150, 200], [70, 300]])\n",
    "cv2.polylines(img, [pts1], True, (255,0,255), 3, cv2.LINE_8)\n",
    "pts2 = np.array([[200, 250], [300, 300], [340, 350], [250, 330]])\n",
    "cv2.fillPoly(img, [pts2], (177,177,177))\n",
    "\n",
    "cv2.imshow(\"shapes\", img)\n",
    "cv2.waitKey(0)\n",
    "cv2.destroyAllWindows()"
   ]
  }
 ],
 "metadata": {
  "kernelspec": {
   "display_name": "my_cv",
   "language": "python",
   "name": "python3"
  },
  "language_info": {
   "codemirror_mode": {
    "name": "ipython",
    "version": 3
   },
   "file_extension": ".py",
   "mimetype": "text/x-python",
   "name": "python",
   "nbconvert_exporter": "python",
   "pygments_lexer": "ipython3",
   "version": "3.12.3"
  }
 },
 "nbformat": 4,
 "nbformat_minor": 2
}
